{
 "cells": [
  {
   "cell_type": "markdown",
   "metadata": {},
   "source": [
    "## I need to stop having fun with this\n",
    "\n",
    "This is just the encoding and decoding functions all in one place just to make life a lot more convenient."
   ]
  },
  {
   "cell_type": "code",
   "execution_count": 3,
   "metadata": {},
   "outputs": [],
   "source": [
    "import DISCOVERY"
   ]
  },
  {
   "cell_type": "code",
   "execution_count": 1,
   "metadata": {},
   "outputs": [],
   "source": [
    "message = \"if you can name this artist youre a real one\""
   ]
  },
  {
   "cell_type": "code",
   "execution_count": 4,
   "metadata": {},
   "outputs": [],
   "source": [
    "#chatgpt made function I take 0 credit for this!\n",
    "\n",
    "import pandas as pd\n",
    "from PIL import Image\n",
    "\n",
    "def dataframe_to_image(df, width, height):\n",
    "    \"\"\"\n",
    "    Converts a dataframe of x, y, and RGB values to an image.\n",
    "    \n",
    "    Parameters:\n",
    "    - df: DataFrame with columns ['x', 'y', 'r', 'g', 'b']\n",
    "    - width: int, width of the image\n",
    "    - height: int, height of the image\n",
    "    \n",
    "    Returns:\n",
    "    - PIL.Image object representing the image\n",
    "    \"\"\"\n",
    "    # Create a blank image with RGB mode\n",
    "    img = Image.new(\"RGB\", (width, height))\n",
    "    \n",
    "    # Loop through the dataframe rows to place each pixel\n",
    "    for _, row in df.iterrows():\n",
    "        x, y = int(row['x']), int(row['y'])\n",
    "        r, g, b = int(row['r']), int(row['g']), int(row['b'])\n",
    "        img.putpixel((x, y), (r, g, b))\n",
    "    \n",
    "    return img\n"
   ]
  },
  {
   "cell_type": "code",
   "execution_count": 5,
   "metadata": {},
   "outputs": [],
   "source": [
    "def encodeImage(fileName, message):\n",
    "    df = DISCOVERY.df_image(fileName)\n",
    "    message = message.upper()\n",
    "    message = message.replace(\" \", \"[\")\n",
    "    message_list = list(message)\n",
    "    charCode_list = []\n",
    "    for i in message_list:\n",
    "        code = ord(i)\n",
    "        code -= 65\n",
    "        charCode_list.append(code)\n",
    "    df[\"b\"] = df[\"b\"].apply(lambda x: x + 1 if x % 2 == 0 else x)\n",
    "\n",
    "    x_val = 0\n",
    "    y_val = 0\n",
    "    for i in charCode_list:\n",
    "        if i < y_val:\n",
    "            x_val += 1\n",
    "        df[\"b\"] = df.apply(lambda row: row[\"b\"] + 1 if (row[\"y\"] == i and row[\"x\"] == x_val) else row[\"b\"], axis=1)\n",
    "        #chatgpt told me to add axis=1 lol\n",
    "        y_val = i\n",
    "    height = df.at[len(df)-1, \"y\"] + 1\n",
    "    width = df.at[len(df)-1, \"x\"] + 1\n",
    "    img = dataframe_to_image(df, width, height)\n",
    "    img.save(\"hidden-message-\" + fileName)\n",
    "    "
   ]
  },
  {
   "cell_type": "code",
   "execution_count": 6,
   "metadata": {},
   "outputs": [],
   "source": [
    "def decodeHiddenMessage(fileName):\n",
    "  df = DISCOVERY.df_image(fileName)\n",
    "  df = df[df.y <= 26]\n",
    "  df[\"mod2\"] = df.b%2\n",
    "  df = df[df.mod2 == 0]\n",
    "  df[\"charCode\"] = df.y + 65\n",
    "  df[\"character\"] = df[\"charCode\"].apply(chr)\n",
    "  message = df.character.str.cat()\n",
    "  message = message.replace(\"[\", \" \")\n",
    "  return message\n",
    "  "
   ]
  },
  {
   "cell_type": "code",
   "execution_count": 7,
   "metadata": {},
   "outputs": [],
   "source": [
    "encodeImage(\"denzel-curry-walkin.png\", message)"
   ]
  },
  {
   "cell_type": "code",
   "execution_count": 8,
   "metadata": {},
   "outputs": [
    {
     "data": {
      "text/plain": [
       "'IF YOU CAN NAME THIS ARTIST YOURE A REAL ONE'"
      ]
     },
     "execution_count": 8,
     "metadata": {},
     "output_type": "execute_result"
    }
   ],
   "source": [
    "decodeHiddenMessage(\"hidden-message-denzel-curry-walkin.png\")"
   ]
  }
 ],
 "metadata": {
  "kernelspec": {
   "display_name": "Python 3",
   "language": "python",
   "name": "python3"
  },
  "language_info": {
   "codemirror_mode": {
    "name": "ipython",
    "version": 3
   },
   "file_extension": ".py",
   "mimetype": "text/x-python",
   "name": "python",
   "nbconvert_exporter": "python",
   "pygments_lexer": "ipython3",
   "version": "3.12.5"
  }
 },
 "nbformat": 4,
 "nbformat_minor": 2
}
