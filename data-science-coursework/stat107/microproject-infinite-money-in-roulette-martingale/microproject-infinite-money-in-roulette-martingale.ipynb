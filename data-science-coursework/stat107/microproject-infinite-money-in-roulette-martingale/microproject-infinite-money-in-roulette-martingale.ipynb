{
 "cells": [
  {
   "attachments": {},
   "cell_type": "markdown",
   "metadata": {},
   "source": [
    "<h1 style=\"text-align: center\">\n",
    "<div style=\"color: #DD3403; font-size: 60%\">Data Science DISCOVERY MicroProject</div>\n",
    "<span style=\"\">MicroProject: Infinite Money in Roulette (Martingale Betting System)</span>\n",
    "<div style=\"font-size: 60%;\"><a href=\"https://discovery.cs.illinois.edu/microproject/infinite-money-in-roulette-martingale/\">https://discovery.cs.illinois.edu/microproject/infinite-money-in-roulette-martingale/</a></div>\n",
    "</h1>\n",
    "\n",
    "<hr style=\"color: #DD3403;\">"
   ]
  },
  {
   "attachments": {},
   "cell_type": "markdown",
   "metadata": {},
   "source": [
    "## The Martingale Betting System\n",
    "\n",
    "The \"Martingale Betting System\" is a specific strategy that, when applied to the game of Roulette, involves the following actions:\n",
    "\n",
    "- You will initially start by betting a small amount (ex: $1.00) on red.\n",
    "- Based on the outcome:\n",
    "  - **If you win** (the wheel lands on red), you will win your bet.  You have made $1.00 and you can repeat again with $1.00.\n",
    "  - **Each time you lose**, you double your bet (initially, after one loss, a $2.00 bet; then $4.00; then $8.00; and so on) until you win.\n",
    "\n",
    "Using this strategy, every bet will always recover all previous losses and **ALWAYS** result in a winning bet netting a win of $1.00.  *(Ex: A $4.00 bet that wins only happens after a $1.00 and $2.00 loss, still resulting in a +$1.00 net win.)*\n",
    "\n",
    "Therefore, mathematically, this betting strategy will result in an **infinite increasing amount of money** so long as you play the game long enough!  In this MicroProject, we will explore this claim and use simulation to play Roulette using the Martingale Betting System.  Let's nerd out! :)"
   ]
  },
  {
   "attachments": {},
   "cell_type": "markdown",
   "metadata": {},
   "source": [
    "<hr style=\"color: #DD3403;\">"
   ]
  },
  {
   "attachments": {},
   "cell_type": "markdown",
   "metadata": {},
   "source": [
    "## Part 1: Creating a Function to Play Roulette\n",
    "\n",
    "To begin to test any betting system, we first need the logic to play the game.  In the game of Roulette, a large wheel with 38 slots is spun and a ball is placed into the spinning wheel.  As the spinning wheel slows down, the ball will land in one of the 38 slots with equal probability.  Each of the slots are labeled with a number **and** a color.  Here's the exact breakdown of a standard Roulette wheel in the United States:\n",
    "- The numbers `0`, `00`, and then `1` through `36`\n",
    "- The colors are:\n",
    "    - The red numbers are: `32`, `19`, `21`, `25`, `34`, `27`, `36`, `30`, `23`, `5`, `16`, `1`, `14`, `9`, `18`, `7`, `12`, and `3` (18 total red numbers).\n",
    "    - The black numbers are: `15`, `4`, `2`, `17`, `6`, `13`, `11`, `8`, `10`, `24`, `33`, `20`, `31`, `22`, `29`, `28`, `35`, and `26`  (18 total black numbers).\n",
    "    - The green numbers are: `0` and `00` (2 total green numbers).\n",
    "\n",
    "\n",
    "### Return Value\n",
    "\n",
    "In the cell below, write a function called `playRoulette` that returns a Python dictionary that contains two keys:\n",
    "- `number`, the number, and\n",
    "- `color`, the corresponding color\n",
    "\n",
    "For example:\n",
    "\n",
    "```py\n",
    "return { \"number\": number, \"color\": color }\n",
    "```\n",
    "\n",
    "Make sure `number` is a number, except for the case `00`, which should be the string \"00\".\n",
    "\n",
    "\n",
    "### Helpful Code\n",
    "\n",
    "To help you, it may be useful to use this logic to test if a number of in a list of red or black numbers:\n",
    "\n",
    "---\n",
    "```py\n",
    "red_numbers = [32, 19, 21, 25, 34, 27, 36, 30, 23, 5, 16, 1, 14, 9, 18, 7, 12, 3]\n",
    "if number in red_numbers:\n",
    "  color = \"red\"\n",
    "\n",
    "black_numbers = [15, 4, 2, 17, 6, 13, 11, 8, 10, 24, 33, 20, 31, 22, 29, 28, 35, 26]\n",
    "if number in black_numbers:\n",
    "  color = \"black\"\n",
    "```\n",
    "---\n"
   ]
  },
  {
   "cell_type": "code",
   "execution_count": 26,
   "metadata": {},
   "outputs": [],
   "source": [
    "import pandas as pd\n",
    "import random\n",
    "\n",
    "def playRoulette():\n",
    "    number = random.randint(0, 37)\n",
    "    red_numbers = [32, 19, 21, 25, 34, 27, 36, 30, 23, 5, 16, 1, 14, 9, 18, 7, 12, 3]\n",
    "    if number in red_numbers:\n",
    "        color = \"red\"\n",
    "\n",
    "    black_numbers = [15, 4, 2, 17, 6, 13, 11, 8, 10, 24, 33, 20, 31, 22, 29, 28, 35, 26]\n",
    "    if number in black_numbers:\n",
    "        color = \"black\"\n",
    "    if number == 0:\n",
    "        color = \"green\"\n",
    "    if number == 37:\n",
    "        number = \"00\"\n",
    "        color = \"green\"\n",
    "    return {\"number\":number, \"color\":color}"
   ]
  },
  {
   "cell_type": "markdown",
   "metadata": {},
   "source": [
    "## Observe your Function Results\n",
    "\n",
    "The following code will show the results of your function 10 times.  Make sure it looks good!"
   ]
  },
  {
   "cell_type": "code",
   "execution_count": 27,
   "metadata": {},
   "outputs": [
    {
     "name": "stdout",
     "output_type": "stream",
     "text": [
      "{'number': 2, 'color': 'black'}\n",
      "{'number': 13, 'color': 'black'}\n",
      "{'number': 27, 'color': 'red'}\n",
      "{'number': '00', 'color': 'green'}\n",
      "{'number': 28, 'color': 'black'}\n",
      "{'number': 7, 'color': 'red'}\n",
      "{'number': 22, 'color': 'black'}\n",
      "{'number': 16, 'color': 'red'}\n",
      "{'number': 7, 'color': 'red'}\n",
      "{'number': 33, 'color': 'black'}\n"
     ]
    }
   ],
   "source": [
    "for i in range(10):\n",
    "  print(playRoulette())"
   ]
  },
  {
   "cell_type": "code",
   "execution_count": 28,
   "metadata": {},
   "outputs": [
    {
     "name": "stdout",
     "output_type": "stream",
     "text": [
      "🎉 All tests passed! 🎉\n"
     ]
    }
   ],
   "source": [
    "### TEST CASE for Part 1: Creating a Function to Play Roulette\n",
    "tada = \"\\N{PARTY POPPER}\"\n",
    "\n",
    "assert( \"playRoulette\" in vars() )\n",
    "\n",
    "color_map = {}\n",
    "for i in [32, 19, 21, 25, 34, 27, 36, 30, 23, 5, 16, 1, 14, 9, 18, 7, 12, 3]:\n",
    "  color_map[i] = \"red\"\n",
    "for i in [15, 4, 2, 17, 6, 13, 11, 8, 10, 24, 33, 20, 31, 22, 29, 28, 35, 26]:\n",
    "  color_map[i] = \"black\"\n",
    "for i in [0, \"00\"]:\n",
    "  color_map[i] = \"green\"\n",
    "\n",
    "occurrence = {}\n",
    "n = 100000\n",
    "for i in range(n):\n",
    "  d = playRoulette()\n",
    "  assert(\"number\" in d), \"Your return value did not have a dictionary entry for the key `number`\"\n",
    "  assert(\"color\" in d), \"Your return value did not have a dictionary entry for the key `color`\"\n",
    "  assert(d[\"number\"] in color_map), f\"You returned the `number` ${d['number']}, which isn't a valid result of Roulette\"\n",
    "\n",
    "  if (d[\"number\"] not in occurrence):\n",
    "    occurrence[d[\"number\"]] = 0\n",
    "  occurrence[d[\"number\"]] += 1\n",
    "\n",
    "ev = n / len(occurrence)\n",
    "for num in color_map:\n",
    "  assert(num in occurrence), f\"Your function never returned the `number` ${num}\"\n",
    "  count = occurrence[num]\n",
    "\n",
    "  assert((count / ev) >= 0.5), f\"Your function returned the `number` ${num} far too few times\"\n",
    "  assert((count / ev) <= 1.5), f\"Your function returned the `number` ${num} far too many times\"\n",
    "\n",
    "tada = \"\\N{PARTY POPPER}\"\n",
    "print(f\"{tada} All tests passed! {tada}\") "
   ]
  },
  {
   "attachments": {},
   "cell_type": "markdown",
   "metadata": {},
   "source": [
    "<hr style=\"color: #DD3403;\">"
   ]
  },
  {
   "attachments": {},
   "cell_type": "markdown",
   "metadata": {},
   "source": [
    "## Part 2: Simulation of Betting with $100,000\n",
    "\n",
    "To test the Martingale Betting System, let's start playing with $100,000 (that's a lot of money)!\n",
    "\n",
    "To do this, write a simulation that tracks your total amount of money as you play many games of roulette.  To do this, you'll want to initially set two variables outside of your simulation:\n",
    "- `money = 100_000` ($100,000), your starting money\n",
    "- `currentBet = 1`, your starting bet size\n",
    "\n",
    "> **Useful Programming Tip**: In Python, you can use an underscore in the middle of a number and the underscore will be ignored by Python.  This makes is very useful in vary large numbers to group sets of zero.  For example:\n",
    ">\n",
    "> ```py\n",
    "> one_million_dollars = 1000000    # Hard to count the number of zeros quickly\n",
    "> # == OR ==\n",
    "> one_million_dollars = 1_000_000  # Very easy to read it as 1,000,000\n",
    "> ```\n",
    "\n",
    "In your simulation, you'll want to play a game of roulette using your `playRoulette` once for each run of your simulation!\n",
    "- If your simulation of the Roulette game results in a **red** number, you have won your `currentBet`!\n",
    "    - Your **winnings** are your `currentBet`,\n",
    "    - Your money for the next round must increase by your `currentBet` (ex: `money = money + currentBet`), **AND**\n",
    "    - Your `currentBet` must reset back to $1.00\n",
    "- If your simulation resulted in **anything except red**, you have lost your `currentBet`.\n",
    "    - Your **winnings** is the negative value of `currentBet` (ex: `winnings = -1 * currentBet`),\n",
    "    - Your money for the next round must decrease by your `currentBet` (ex: `money = money - currentBet`), **AND**\n",
    "    - Your `currentBet` must double (ex: `currentBet = currentBet * 2`)\n",
    "\n",
    "In your simulation, make sure to record all five of these real-world variables:\n",
    "1. `money`, you current amount of money (before adding/subtracting any result from this round)\n",
    "2. `currentBet`, your current bet size (before changing it this round)\n",
    "3. `number`, the number the Roulette wheel landed on\n",
    "4. `color`, the color the Roulette wheel landed on\n",
    "4. `winnings`, the total amount of winning for this spin of the roulette wheel\n",
    "\n",
    "Write your simulation below that simulates playing 1,000,000 games or Roulette and storing the reuslts in a DataFrame called `df`:"
   ]
  },
  {
   "cell_type": "code",
   "execution_count": 29,
   "metadata": {},
   "outputs": [
    {
     "data": {
      "text/html": [
       "<div>\n",
       "<style scoped>\n",
       "    .dataframe tbody tr th:only-of-type {\n",
       "        vertical-align: middle;\n",
       "    }\n",
       "\n",
       "    .dataframe tbody tr th {\n",
       "        vertical-align: top;\n",
       "    }\n",
       "\n",
       "    .dataframe thead th {\n",
       "        text-align: right;\n",
       "    }\n",
       "</style>\n",
       "<table border=\"1\" class=\"dataframe\">\n",
       "  <thead>\n",
       "    <tr style=\"text-align: right;\">\n",
       "      <th></th>\n",
       "      <th>money</th>\n",
       "      <th>currentBet</th>\n",
       "      <th>winnings</th>\n",
       "      <th>color</th>\n",
       "      <th>number</th>\n",
       "    </tr>\n",
       "  </thead>\n",
       "  <tbody>\n",
       "    <tr>\n",
       "      <th>0</th>\n",
       "      <td>100000</td>\n",
       "      <td>1</td>\n",
       "      <td>-1</td>\n",
       "      <td>black</td>\n",
       "      <td>15</td>\n",
       "    </tr>\n",
       "    <tr>\n",
       "      <th>1</th>\n",
       "      <td>99999</td>\n",
       "      <td>2</td>\n",
       "      <td>-2</td>\n",
       "      <td>black</td>\n",
       "      <td>15</td>\n",
       "    </tr>\n",
       "    <tr>\n",
       "      <th>2</th>\n",
       "      <td>99997</td>\n",
       "      <td>4</td>\n",
       "      <td>-4</td>\n",
       "      <td>black</td>\n",
       "      <td>17</td>\n",
       "    </tr>\n",
       "    <tr>\n",
       "      <th>3</th>\n",
       "      <td>99993</td>\n",
       "      <td>8</td>\n",
       "      <td>8</td>\n",
       "      <td>red</td>\n",
       "      <td>12</td>\n",
       "    </tr>\n",
       "    <tr>\n",
       "      <th>4</th>\n",
       "      <td>100001</td>\n",
       "      <td>1</td>\n",
       "      <td>-1</td>\n",
       "      <td>black</td>\n",
       "      <td>31</td>\n",
       "    </tr>\n",
       "    <tr>\n",
       "      <th>...</th>\n",
       "      <td>...</td>\n",
       "      <td>...</td>\n",
       "      <td>...</td>\n",
       "      <td>...</td>\n",
       "      <td>...</td>\n",
       "    </tr>\n",
       "    <tr>\n",
       "      <th>999995</th>\n",
       "      <td>573707</td>\n",
       "      <td>2</td>\n",
       "      <td>2</td>\n",
       "      <td>red</td>\n",
       "      <td>19</td>\n",
       "    </tr>\n",
       "    <tr>\n",
       "      <th>999996</th>\n",
       "      <td>573709</td>\n",
       "      <td>1</td>\n",
       "      <td>-1</td>\n",
       "      <td>black</td>\n",
       "      <td>4</td>\n",
       "    </tr>\n",
       "    <tr>\n",
       "      <th>999997</th>\n",
       "      <td>573708</td>\n",
       "      <td>2</td>\n",
       "      <td>2</td>\n",
       "      <td>red</td>\n",
       "      <td>21</td>\n",
       "    </tr>\n",
       "    <tr>\n",
       "      <th>999998</th>\n",
       "      <td>573710</td>\n",
       "      <td>1</td>\n",
       "      <td>-1</td>\n",
       "      <td>black</td>\n",
       "      <td>17</td>\n",
       "    </tr>\n",
       "    <tr>\n",
       "      <th>999999</th>\n",
       "      <td>573709</td>\n",
       "      <td>2</td>\n",
       "      <td>2</td>\n",
       "      <td>red</td>\n",
       "      <td>18</td>\n",
       "    </tr>\n",
       "  </tbody>\n",
       "</table>\n",
       "<p>1000000 rows × 5 columns</p>\n",
       "</div>"
      ],
      "text/plain": [
       "         money  currentBet  winnings  color number\n",
       "0       100000           1        -1  black     15\n",
       "1        99999           2        -2  black     15\n",
       "2        99997           4        -4  black     17\n",
       "3        99993           8         8    red     12\n",
       "4       100001           1        -1  black     31\n",
       "...        ...         ...       ...    ...    ...\n",
       "999995  573707           2         2    red     19\n",
       "999996  573709           1        -1  black      4\n",
       "999997  573708           2         2    red     21\n",
       "999998  573710           1        -1  black     17\n",
       "999999  573709           2         2    red     18\n",
       "\n",
       "[1000000 rows x 5 columns]"
      ]
     },
     "execution_count": 29,
     "metadata": {},
     "output_type": "execute_result"
    }
   ],
   "source": [
    "money = 100_000\n",
    "currentBet = 1\n",
    "data = []\n",
    "for i in range(1_000_000):\n",
    "    d = playRoulette()\n",
    "    number = d[\"number\"]\n",
    "    color = d[\"color\"]\n",
    "    if color == \"red\":\n",
    "        winnings = currentBet\n",
    "        dict = {\"money\": money, \"currentBet\": currentBet, \"winnings\": winnings, \"color\":color, \"number\":number}\n",
    "        data.append(dict)\n",
    "        money += currentBet\n",
    "        currentBet = 1\n",
    "    else:\n",
    "        winnings = (-1)*currentBet\n",
    "        dict = {\"money\": money, \"currentBet\": currentBet, \"winnings\": winnings, \"color\":color, \"number\":number}\n",
    "        data.append(dict)\n",
    "        money -= currentBet\n",
    "        currentBet = currentBet*2\n",
    "df = pd.DataFrame(data)\n",
    "df"
   ]
  },
  {
   "cell_type": "code",
   "execution_count": 30,
   "metadata": {},
   "outputs": [
    {
     "name": "stdout",
     "output_type": "stream",
     "text": [
      "🎉 All tests passed! 🎉\n"
     ]
    }
   ],
   "source": [
    "### TEST CASE for Part 2: Simulation of Betting with $10,000\n",
    "tada = \"\\N{PARTY POPPER}\"\n",
    "\n",
    "assert( \"df\" in vars() ), \"Your simulation must be stored in df\"\n",
    "\n",
    "assert( \"money\" in df ), \"Your DataFrame must have the column/variable \\\"money\\\"\"\n",
    "assert( \"currentBet\" in df ), \"Your DataFrame must have the column/variable \\\"currentBet\\\"\"\n",
    "assert( \"winnings\" in df ), \"Your DataFrame must have the column/variable \\\"winnings\\\"\"\n",
    "assert( \"color\" in df ), \"Your DataFrame must have the column/variable \\\"color\\\"\"\n",
    "assert( \"number\" in df ), \"Your DataFrame must have the column/variable \\\"number\\\"\"\n",
    "\n",
    "assert( df.money.values[0] == 100000 ), \"Your starting money must be $100,000\"\n",
    "assert( df.currentBet.values[0] == 1 ), \"Your starting bet must be $1\"\n",
    "assert( len(df) == 1000000 ), \"Your simulation must be of exactly 1,000,000 games\"\n",
    "\n",
    "uniqueBets = list(df.currentBet.unique())\n",
    "maxBet = df.currentBet.unique().max()\n",
    "curBet = 1\n",
    "for i in range(len(uniqueBets)):\n",
    "    val = 2 ** i\n",
    "    if val in uniqueBets:\n",
    "        uniqueBets.remove(2 ** i)\n",
    "\n",
    "assert( len(uniqueBets) == 0 ), f\"Your `bets` contains values that are not valid bets: {uniqueBets}\"\n",
    "\n",
    "redCount = len(df[df.color == \"red\"])\n",
    "assert(abs(df.money.max() - redCount - 100000) < 10), \"You should only make $1 every time `red` occurs, even in a streak.\"\n",
    "\n",
    "tada = \"\\N{PARTY POPPER}\"\n",
    "print(f\"{tada} All tests passed! {tada}\")"
   ]
  },
  {
   "cell_type": "markdown",
   "metadata": {},
   "source": [
    "<hr style=\"color: #DD3403;\">"
   ]
  },
  {
   "attachments": {},
   "cell_type": "markdown",
   "metadata": {},
   "source": [
    "## Part 3: Analysis of Infinite Money"
   ]
  },
  {
   "attachments": {},
   "cell_type": "markdown",
   "metadata": {},
   "source": [
    "The following code creates a line plot using `df.plot.line` and uses `money` as the `y`-axis value to create a plot of our current money:"
   ]
  },
  {
   "cell_type": "code",
   "execution_count": 31,
   "metadata": {},
   "outputs": [
    {
     "data": {
      "text/plain": [
       "<matplotlib.legend.Legend at 0x121af6270>"
      ]
     },
     "execution_count": 31,
     "metadata": {},
     "output_type": "execute_result"
    },
    {
     "data": {
      "image/png": "[encoded data removed]",
      "text/plain": [
       "<Figure size 640x480 with 1 Axes>"
      ]
     },
     "metadata": {},
     "output_type": "display_data"
    }
   ],
   "source": [
    "df.plot.line(y=\"money\", xlabel=\"Plays of Roulette\", ylabel=\"Current Money\", title=\"Infinite Money in Roulette?\")\n",
    "\n",
    "# Add a red line at y=0 ($0) and a green line at your starting money (y=$100,000)\n",
    "import matplotlib.pyplot as plt \n",
    "plt.axhline(y=100000, color=\"green\", linestyle=\"dashed\", label=\"Starting Cash\") \n",
    "plt.axhline(y=0, color=\"red\", linestyle=\"dotted\", label=\"$0\") \n",
    "plt.legend()"
   ]
  },
  {
   "cell_type": "markdown",
   "metadata": {},
   "source": [
    "### Negative Money?\n",
    "\n",
    "A casino requires you to have money to place a bet -- if your money ever went below $0, you couldn't make the bet.  In your 1,000,000 games, create a DataFrame of all games with a negative starting balance -- store that as `df_negativeBalance`:"
   ]
  },
  {
   "cell_type": "code",
   "execution_count": 32,
   "metadata": {},
   "outputs": [
    {
     "data": {
      "text/html": [
       "<div>\n",
       "<style scoped>\n",
       "    .dataframe tbody tr th:only-of-type {\n",
       "        vertical-align: middle;\n",
       "    }\n",
       "\n",
       "    .dataframe tbody tr th {\n",
       "        vertical-align: top;\n",
       "    }\n",
       "\n",
       "    .dataframe thead th {\n",
       "        text-align: right;\n",
       "    }\n",
       "</style>\n",
       "<table border=\"1\" class=\"dataframe\">\n",
       "  <thead>\n",
       "    <tr style=\"text-align: right;\">\n",
       "      <th></th>\n",
       "      <th>money</th>\n",
       "      <th>currentBet</th>\n",
       "      <th>winnings</th>\n",
       "      <th>color</th>\n",
       "      <th>number</th>\n",
       "    </tr>\n",
       "  </thead>\n",
       "  <tbody>\n",
       "    <tr>\n",
       "      <th>9552</th>\n",
       "      <td>-26637</td>\n",
       "      <td>131072</td>\n",
       "      <td>131072</td>\n",
       "      <td>red</td>\n",
       "      <td>14</td>\n",
       "    </tr>\n",
       "    <tr>\n",
       "      <th>156371</th>\n",
       "      <td>-87969</td>\n",
       "      <td>262144</td>\n",
       "      <td>-262144</td>\n",
       "      <td>black</td>\n",
       "      <td>2</td>\n",
       "    </tr>\n",
       "    <tr>\n",
       "      <th>156372</th>\n",
       "      <td>-350113</td>\n",
       "      <td>524288</td>\n",
       "      <td>524288</td>\n",
       "      <td>red</td>\n",
       "      <td>16</td>\n",
       "    </tr>\n",
       "    <tr>\n",
       "      <th>894793</th>\n",
       "      <td>-462</td>\n",
       "      <td>524288</td>\n",
       "      <td>524288</td>\n",
       "      <td>red</td>\n",
       "      <td>27</td>\n",
       "    </tr>\n",
       "  </tbody>\n",
       "</table>\n",
       "</div>"
      ],
      "text/plain": [
       "         money  currentBet  winnings  color number\n",
       "9552    -26637      131072    131072    red     14\n",
       "156371  -87969      262144   -262144  black      2\n",
       "156372 -350113      524288    524288    red     16\n",
       "894793    -462      524288    524288    red     27"
      ]
     },
     "execution_count": 32,
     "metadata": {},
     "output_type": "execute_result"
    }
   ],
   "source": [
    "# Find all rows with a negative starting balance:\n",
    "df_negativeBalance = df[df[\"money\"] < 0]\n",
    "df_negativeBalance"
   ]
  },
  {
   "attachments": {},
   "cell_type": "markdown",
   "metadata": {},
   "source": [
    "### Required Bankroll"
   ]
  },
  {
   "attachments": {},
   "cell_type": "markdown",
   "metadata": {},
   "source": [
    "What is the largest amount of debt you had?  This is represents the **additional \"bankroll\"** (on top of the original $10,000) you would be required to have to be able to make the bet.  Store this answer as a postive number of the `additional_bankroll_needed`:"
   ]
  },
  {
   "cell_type": "code",
   "execution_count": 45,
   "metadata": {},
   "outputs": [
    {
     "data": {
      "text/plain": [
       "np.int64(350113)"
      ]
     },
     "execution_count": 45,
     "metadata": {},
     "output_type": "execute_result"
    }
   ],
   "source": [
    "# Find the additional money you would have needed to have to bankroll these 100,000 games:\n",
    "additional_bankroll_needed = (-1)* df_negativeBalance[\"money\"].min()\n",
    "additional_bankroll_needed"
   ]
  },
  {
   "cell_type": "code",
   "execution_count": 46,
   "metadata": {},
   "outputs": [
    {
     "name": "stdout",
     "output_type": "stream",
     "text": [
      "🎉 All tests passed! 🎉\n",
      "\n",
      "With your initial $100,000, you would have needed an ADDITIONAL $350,113 to be able to use this strategy.\n",
      "...in addition, every additional game you play has a chance to double the needed bankroll (to $700,226, then $1,400,452, etc).\n"
     ]
    }
   ],
   "source": [
    "### TEST CASE for Part 3: Analysis of Infinite Money\n",
    "tada = \"\\N{PARTY POPPER}\"\n",
    "\n",
    "assert( \"df_negativeBalance\" in vars() )\n",
    "assert( len(df_negativeBalance) == len(df) - len(df[df.money >= 0]) ), \"Your df_negativeBalance does not contain all of the negative balances\"\n",
    "\n",
    "assert( \"additional_bankroll_needed\" in vars() )\n",
    "assert( additional_bankroll_needed >= 0 ), \"additional_bankroll_needed must be positive\"\n",
    "assert( additional_bankroll_needed == -df.money.min() ), \"additional_bankroll_needed is incorrect\"\n",
    "\n",
    "def money(value):\n",
    "  value = round(value, 2)\n",
    "  return \"${:,}\".format(value)\n",
    "\n",
    "import locale\n",
    "locale.setlocale( locale.LC_ALL, '' )\n",
    "\n",
    "tada = \"\\N{PARTY POPPER}\"\n",
    "print(f\"{tada} All tests passed! {tada}\") \n",
    "print()\n",
    "print(f\"With your initial $100,000, you would have needed an ADDITIONAL {money(additional_bankroll_needed)} to be able to use this strategy.\")\n",
    "if additional_bankroll_needed > 1000000:\n",
    "  print(f\"...that's a lot of money! (!!)\")\n",
    "print(f\"...in addition, every additional game you play has a chance to double the needed bankroll (to {money(additional_bankroll_needed * 2)}, then {money(additional_bankroll_needed * 4)}, etc).\")"
   ]
  },
  {
   "attachments": {},
   "cell_type": "markdown",
   "metadata": {},
   "source": [
    "<hr style=\"color: #DD3403;\">"
   ]
  },
  {
   "cell_type": "markdown",
   "metadata": {},
   "source": [
    "## Part 4: Table Limits\n",
    "\n",
    "Being a millionaire, the bank roll you need may not be an issue and -- after 1,000,000 games -- you have still won about $470,000 *(you're expected to win about 18/38 times, each win winning $1)*.  All casinos that offer Roulette games will have a \"table limit\" -- a maximum bet you can make on any spin of a Roulette wheel.\n",
    "\n",
    "Create a new simulation, identical to the simulation you created in Part 2, except that:\n",
    "- You start with $1,000,000 (`money = 1_000_000`) instead of just $100,000 *(you're a millionaire after all!)*.\n",
    "- The **maximum bet size is $10,000**.  If doubling would cause your `currentBet` to be over $10,000, reduce your `currentBet` to just $10,000. *(This means you may not always make all your money back when you win since you won't be able to bet enough to recover all your losses!)*\n",
    "\n",
    "Identical to Part 2 (*you may want to begin by copy/pasting your Part 2 code below*), make sure your simulation below runs 1,000,000 times and contains the following five variables:\n",
    "\n",
    "1. `money`, you current amount of money (before adding/subtracting any result from this round)\n",
    "2. `currentBet`, your current bet size\n",
    "3. `number`, the number the Roulette wheel landed on\n",
    "4. `color`, the color the Roulette wheel landed on\n",
    "5. `winnings`, the total amount of winning for this spin of the roulette wheel\n",
    "\n",
    "Store your results in the DataFrame `df_withTableLimit`:"
   ]
  },
  {
   "cell_type": "code",
   "execution_count": 35,
   "metadata": {},
   "outputs": [
    {
     "data": {
      "text/html": [
       "<div>\n",
       "<style scoped>\n",
       "    .dataframe tbody tr th:only-of-type {\n",
       "        vertical-align: middle;\n",
       "    }\n",
       "\n",
       "    .dataframe tbody tr th {\n",
       "        vertical-align: top;\n",
       "    }\n",
       "\n",
       "    .dataframe thead th {\n",
       "        text-align: right;\n",
       "    }\n",
       "</style>\n",
       "<table border=\"1\" class=\"dataframe\">\n",
       "  <thead>\n",
       "    <tr style=\"text-align: right;\">\n",
       "      <th></th>\n",
       "      <th>money</th>\n",
       "      <th>currentBet</th>\n",
       "      <th>winnings</th>\n",
       "      <th>color</th>\n",
       "      <th>number</th>\n",
       "    </tr>\n",
       "  </thead>\n",
       "  <tbody>\n",
       "    <tr>\n",
       "      <th>0</th>\n",
       "      <td>1000000</td>\n",
       "      <td>1</td>\n",
       "      <td>-1</td>\n",
       "      <td>green</td>\n",
       "      <td>0</td>\n",
       "    </tr>\n",
       "    <tr>\n",
       "      <th>1</th>\n",
       "      <td>999999</td>\n",
       "      <td>2</td>\n",
       "      <td>-2</td>\n",
       "      <td>black</td>\n",
       "      <td>29</td>\n",
       "    </tr>\n",
       "    <tr>\n",
       "      <th>2</th>\n",
       "      <td>999997</td>\n",
       "      <td>4</td>\n",
       "      <td>4</td>\n",
       "      <td>red</td>\n",
       "      <td>3</td>\n",
       "    </tr>\n",
       "    <tr>\n",
       "      <th>3</th>\n",
       "      <td>1000001</td>\n",
       "      <td>1</td>\n",
       "      <td>-1</td>\n",
       "      <td>black</td>\n",
       "      <td>10</td>\n",
       "    </tr>\n",
       "    <tr>\n",
       "      <th>4</th>\n",
       "      <td>1000000</td>\n",
       "      <td>2</td>\n",
       "      <td>-2</td>\n",
       "      <td>black</td>\n",
       "      <td>4</td>\n",
       "    </tr>\n",
       "    <tr>\n",
       "      <th>...</th>\n",
       "      <td>...</td>\n",
       "      <td>...</td>\n",
       "      <td>...</td>\n",
       "      <td>...</td>\n",
       "      <td>...</td>\n",
       "    </tr>\n",
       "    <tr>\n",
       "      <th>999995</th>\n",
       "      <td>177508</td>\n",
       "      <td>1</td>\n",
       "      <td>1</td>\n",
       "      <td>red</td>\n",
       "      <td>7</td>\n",
       "    </tr>\n",
       "    <tr>\n",
       "      <th>999996</th>\n",
       "      <td>177509</td>\n",
       "      <td>1</td>\n",
       "      <td>-1</td>\n",
       "      <td>black</td>\n",
       "      <td>4</td>\n",
       "    </tr>\n",
       "    <tr>\n",
       "      <th>999997</th>\n",
       "      <td>177508</td>\n",
       "      <td>2</td>\n",
       "      <td>2</td>\n",
       "      <td>red</td>\n",
       "      <td>9</td>\n",
       "    </tr>\n",
       "    <tr>\n",
       "      <th>999998</th>\n",
       "      <td>177510</td>\n",
       "      <td>1</td>\n",
       "      <td>-1</td>\n",
       "      <td>black</td>\n",
       "      <td>6</td>\n",
       "    </tr>\n",
       "    <tr>\n",
       "      <th>999999</th>\n",
       "      <td>177509</td>\n",
       "      <td>2</td>\n",
       "      <td>-2</td>\n",
       "      <td>black</td>\n",
       "      <td>20</td>\n",
       "    </tr>\n",
       "  </tbody>\n",
       "</table>\n",
       "<p>1000000 rows × 5 columns</p>\n",
       "</div>"
      ],
      "text/plain": [
       "          money  currentBet  winnings  color number\n",
       "0       1000000           1        -1  green      0\n",
       "1        999999           2        -2  black     29\n",
       "2        999997           4         4    red      3\n",
       "3       1000001           1        -1  black     10\n",
       "4       1000000           2        -2  black      4\n",
       "...         ...         ...       ...    ...    ...\n",
       "999995   177508           1         1    red      7\n",
       "999996   177509           1        -1  black      4\n",
       "999997   177508           2         2    red      9\n",
       "999998   177510           1        -1  black      6\n",
       "999999   177509           2        -2  black     20\n",
       "\n",
       "[1000000 rows x 5 columns]"
      ]
     },
     "execution_count": 35,
     "metadata": {},
     "output_type": "execute_result"
    }
   ],
   "source": [
    "money = 1_000_000\n",
    "currentBet = 1\n",
    "data = []\n",
    "for i in range(1_000_000):\n",
    "    d = playRoulette()\n",
    "    number = d[\"number\"]\n",
    "    color = d[\"color\"]\n",
    "    if color == \"red\":\n",
    "        winnings = currentBet\n",
    "        dict = {\"money\": money, \"currentBet\": currentBet, \"winnings\": winnings, \"color\":color, \"number\":number}\n",
    "        data.append(dict)\n",
    "        money += currentBet\n",
    "        currentBet = 1\n",
    "    else:\n",
    "        winnings = (-1)*currentBet\n",
    "        dict = {\"money\": money, \"currentBet\": currentBet, \"winnings\": winnings, \"color\":color, \"number\":number}\n",
    "        data.append(dict)\n",
    "        money -= currentBet\n",
    "        currentBet = currentBet*2\n",
    "        if currentBet >= 10000:\n",
    "            currentBet = 10000\n",
    "\n",
    "# Make sure to store your simulation in `df_withTableLimit`:\n",
    "df_withTableLimit = pd.DataFrame(data)\n",
    "df_withTableLimit\n"
   ]
  },
  {
   "cell_type": "code",
   "execution_count": 36,
   "metadata": {},
   "outputs": [
    {
     "name": "stdout",
     "output_type": "stream",
     "text": [
      "🎉 All tests passed! 🎉\n"
     ]
    }
   ],
   "source": [
    "### TEST CASE for Part 4: Simulation with Table Limits\n",
    "tada = \"\\N{PARTY POPPER}\"\n",
    "\n",
    "assert( \"df_withTableLimit\" in vars() ), \"Your simulation must be stored in df_withTableLimit\"\n",
    "\n",
    "assert( \"money\" in df_withTableLimit ), \"Your DataFrame must have the column/variable \\\"money\\\"\"\n",
    "assert( \"currentBet\" in df_withTableLimit ), \"Your DataFrame must have the column/variable \\\"currentBet\\\"\"\n",
    "assert( \"winnings\" in df_withTableLimit ), \"Your DataFrame must have the column/variable \\\"winnings\\\"\"\n",
    "assert( \"color\" in df_withTableLimit ), \"Your DataFrame must have the column/variable \\\"color\\\"\"\n",
    "assert( \"number\" in df_withTableLimit ), \"Your DataFrame must have the column/variable \\\"number\\\"\"\n",
    "\n",
    "assert( df_withTableLimit.money.values[0] == 1_000_000 ), \"Your starting money must be $1,000,000\"\n",
    "assert( df_withTableLimit.currentBet.values[0] == 1 ), \"Your starting bet must be $1\"\n",
    "assert( len(df) == 1_000_000 ), \"Your simulation must be of exactly 1,000,000 games\"\n",
    "\n",
    "uniqueBets = list(df_withTableLimit.currentBet.unique())\n",
    "maxBet = df_withTableLimit.currentBet.unique().max()\n",
    "curBet = 1\n",
    "for i in range(len(uniqueBets)):\n",
    "    val = 2 ** i\n",
    "    if val in uniqueBets and val < 10000:\n",
    "        uniqueBets.remove(2 ** i)\n",
    "\n",
    "uniqueBets.remove(10000)\n",
    "assert( len(uniqueBets) == 0 ), f\"Your `bets` contains values that are not valid bets: {uniqueBets}\"\n",
    "\n",
    "tada = \"\\N{PARTY POPPER}\"\n",
    "print(f\"{tada} All tests passed! {tada}\")\n"
   ]
  },
  {
   "cell_type": "markdown",
   "metadata": {},
   "source": [
    "<hr style=\"color: #DD3403;\">"
   ]
  },
  {
   "cell_type": "markdown",
   "metadata": {},
   "source": [
    "## Part 5: Analysis of Table Limits\n",
    "\n",
    "Let's look at a data visualization of the simulation when table limits are put in place:"
   ]
  },
  {
   "cell_type": "code",
   "execution_count": 37,
   "metadata": {},
   "outputs": [
    {
     "data": {
      "text/plain": [
       "<matplotlib.legend.Legend at 0x121936060>"
      ]
     },
     "execution_count": 37,
     "metadata": {},
     "output_type": "execute_result"
    },
    {
     "data": {
      "image/png": "[encoded data removed]",
      "text/plain": [
       "<Figure size 640x480 with 1 Axes>"
      ]
     },
     "metadata": {},
     "output_type": "display_data"
    }
   ],
   "source": [
    "df_withTableLimit.plot.line(y=\"money\", xlabel=\"Plays of Roulette\", ylabel=\"Current Money\", title=\"Infinite Money in Roulette? (w/ Table Limits)\")\n",
    "\n",
    "# Add a red line at y=0 ($0) and a green line at your starting money (y=$100,000)\n",
    "import matplotlib.pyplot as plt \n",
    "plt.axhline(y=1000000, color=\"green\", linestyle=\"dashed\", label=\"Starting Cash\") \n",
    "plt.legend()"
   ]
  },
  {
   "cell_type": "markdown",
   "metadata": {},
   "source": [
    "### Money Lost\n",
    "\n",
    "Calculate the **total money lost** after 1,000,000 games with table limits using your simulation stored in `df_withTableLimit`.  *(Remember, you started with $1,000,000.)*"
   ]
  },
  {
   "cell_type": "code",
   "execution_count": 42,
   "metadata": {},
   "outputs": [
    {
     "data": {
      "text/plain": [
       "np.int64(822491)"
      ]
     },
     "execution_count": 42,
     "metadata": {},
     "output_type": "execute_result"
    }
   ],
   "source": [
    "totalLoss = 1_000_000 - df_withTableLimit[\"money\"].at[999999]\n",
    "totalLoss"
   ]
  },
  {
   "cell_type": "code",
   "execution_count": 43,
   "metadata": {},
   "outputs": [
    {
     "name": "stdout",
     "output_type": "stream",
     "text": [
      "🎉 All tests passed! 🎉\n",
      "\n",
      "With your initial $1,000,000, you just turned into only $177,509. (!!)\n"
     ]
    }
   ],
   "source": [
    "### TEST CASE for Part 5: Analysis of Losses in Games with Table Limits\n",
    "tada = \"\\N{PARTY POPPER}\"\n",
    "\n",
    "assert( \"totalLoss\" in vars() )\n",
    "assert( totalLoss == 1e6 - df_withTableLimit.iloc[-1].money )\n",
    "\n",
    "\n",
    "def money(value):\n",
    "  value = round(value, 2)\n",
    "  return \"${:,}\".format(value)\n",
    "\n",
    "tada = \"\\N{PARTY POPPER}\"\n",
    "print(f\"{tada} All tests passed! {tada}\")\n",
    "print()\n",
    "if totalLoss > 0:\n",
    "  print(f\"With your initial $1,000,000, you just turned into only {money(1_000_000 - totalLoss)}. (!!)\")\n"
   ]
  },
  {
   "cell_type": "markdown",
   "metadata": {},
   "source": [
    "<hr style=\"color: #DD3403;\">"
   ]
  },
  {
   "attachments": {},
   "cell_type": "markdown",
   "metadata": {},
   "source": [
    "## Submission\n",
    "\n",
    "You're almost done!  All you need to do is to commit your lab to GitHub and run the GitHub Actions Grader:\n",
    "\n",
    "1.  ⚠️ **Make certain to save your work.** ⚠️ To do this, go to **File => Save All**\n",
    "\n",
    "2.  After you have saved, exit this notebook and return to https://discovery.cs.illinois.edu/microproject/infinite-money-in-roulette-martingale/ and complete the section **\"Commit and Grade Your Notebook\"**.\n",
    "\n",
    "3. If you see a 100% grade result on your GitHub Action, you've completed this MicroProject! 🎉"
   ]
  }
 ],
 "metadata": {
  "kernelspec": {
   "display_name": "Python 3",
   "language": "python",
   "name": "python3"
  },
  "language_info": {
   "codemirror_mode": {
    "name": "ipython",
    "version": 3
   },
   "file_extension": ".py",
   "mimetype": "text/x-python",
   "name": "python",
   "nbconvert_exporter": "python",
   "pygments_lexer": "ipython3",
   "version": "3.13.0"
  },
  "vscode": {
   "interpreter": {
    "hash": "369f2c481f4da34e4445cda3fffd2e751bd1c4d706f27375911949ba6bb62e1c"
   }
  }
 },
 "nbformat": 4,
 "nbformat_minor": 2
}
