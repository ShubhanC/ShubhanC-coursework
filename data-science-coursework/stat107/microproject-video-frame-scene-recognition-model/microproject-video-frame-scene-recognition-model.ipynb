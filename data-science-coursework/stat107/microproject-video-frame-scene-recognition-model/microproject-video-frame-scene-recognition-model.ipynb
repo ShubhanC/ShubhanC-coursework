{
 "cells": [
  {
   "attachments": {},
   "cell_type": "markdown",
   "metadata": {},
   "source": [
    "<h1 style=\"text-align: center\">\n",
    "<div style=\"color: #DD3403; font-size: 60%\">Data Science DISCOVERY MicroProject</div>\n",
    "<span style=\"\">MicroProject: Building a Scene Recognition Model form Video Frames</span>\n",
    "<div style=\"font-size: 60%;\"><a href=\"https://discovery.cs.illinois.edu/microproject/video-frame-scene-recognition-model/\">https://discovery.cs.illinois.edu/microproject/video-frame-scene-recognition-model/</a></div>\n",
    "</h1>\n",
    "\n",
    "<hr style=\"color: #DD3403;\">"
   ]
  },
  {
   "attachments": {},
   "cell_type": "markdown",
   "metadata": {},
   "source": [
    "## Data Source: Frames of a Video\n",
    "\n",
    "Visual images are an important part of all media and Data Scientists are often using images as data sources.  In this MicroProject, you will create a simple model to detect the amount of time spent in two different \"scenes\" we used when creating office-hour style videos for Data Science DISCOVERY.\n",
    "\n",
    "*This MicroProject was inspired by a podcast that we recently recorded with the team from the Center for Innovation in Teaching and Learning who helped produce our video.  To learn the background and hear from Karle and Wade about the journey of creating DISCOVERY, go over and listen to our episode on the \"Teach Talk Listen Learn Podcast\" where talk with TTLL host Bob Dignan and our CITL video producer Eric Schumacher: https://citl.illinois.edu/citl-101/teaching-learning/teach-talk-listen-learn*\n"
   ]
  },
  {
   "attachments": {},
   "cell_type": "markdown",
   "metadata": {},
   "source": [
    "### Loading a Video Frame\n",
    "\n",
    "We have provided you with one frame every second from our video [*\"Outliers Impact on Correlation (m6-02b)\"*](https://www.youtube.com/watch?v=bd6hQ2UcIJc) that is used as part of our [DISCOVERY lecture covering Correlation](https://discovery.cs.illinois.edu/learn/Towards-Machine-Learning/Correlation/).\n",
    "\n",
    "The `skimage` library is commonly used to load image data into Python.  Specifically:\n",
    "\n",
    "- `skimage.io.imread(filename)` will read a filename and return the pixel color for every pixel in the image.\n",
    "- To use the `imread` function, you will need to either do one of the following:\n",
    "\n",
    "    1. Either import all of `skimage` by using the import line `import skimage`.  After importing all of `skimage`, you will call the function using it's fully qualified name: `skimage.io.imread(filename)`.\n",
    "    \n",
    "    **OR**\n",
    "    \n",
    "    2. Import only the `imread` function by using the import line `from skimage.io import imread`.  After importing only `imread`, you will call the function directly: `imread(filename)`\n",
    "\n",
    "#### Read Pixel Data for `frames/frame_0001.jpg`\n",
    "\n",
    "We have provided a `frames` directory with all of the frames.  In the following cell, store the pixel color data from the file named `frames/frame_0001.jpg` image in the variable `pixels` by using the `imread` function:\n"
   ]
  },
  {
   "cell_type": "code",
   "execution_count": 138,
   "metadata": {},
   "outputs": [],
   "source": [
    "from skimage.io import imread\n",
    "\n",
    "pixels = imread(\"frames/frame_0001.jpg\")"
   ]
  },
  {
   "attachments": {},
   "cell_type": "markdown",
   "metadata": {},
   "source": [
    "### 🔬 Checkpoint Tests 🔬"
   ]
  },
  {
   "cell_type": "code",
   "execution_count": 139,
   "metadata": {},
   "outputs": [
    {
     "name": "stdout",
     "output_type": "stream",
     "text": [
      "🎉 All Tests Passed! 🎉\n"
     ]
    }
   ],
   "source": [
    "### TEST CASE for Reading Video Frames\n",
    "tada = \"\\N{PARTY POPPER}\"\n",
    "\n",
    "assert(\"pixels\" in vars())\n",
    "assert(pixels.shape == (360, 640, 3))\n",
    "assert(pixels[0][0][0] == 91)\n",
    "\n",
    "print(f\"{tada} All Tests Passed! {tada}\")"
   ]
  },
  {
   "attachments": {},
   "cell_type": "markdown",
   "metadata": {},
   "source": [
    "<hr style=\"color: #DD3403;\">"
   ]
  },
  {
   "attachments": {},
   "cell_type": "markdown",
   "metadata": {},
   "source": [
    "## Part 1: Storing Average Pixel Color\n",
    "\n",
    "The **shape** of your data is the `rows` by `columns` by `color values` as 3-dimensional list.  Here's a formatted view of your `pixels` data:\n",
    "\n",
    "```\n",
    "[\n",
    "  [ [91, 83, 80], [91, 83, 80], [91, 83, 80] ], ... ],   # Row #1\n",
    "  [ [91, 83, 80], [91, 83, 80], [91, 83, 80] ], ... ],   # Row #2\n",
    "  ...                                                    # ...\n",
    "]\n",
    "```\n",
    "\n",
    "The current shape of `pixels` is 360 rows by 640 columns by 3 colors.  Each of the three colors represent the three color channels on a screen: red, green, and blue.\n",
    "\n",
    "Using `pixel.mean()`, we find the average color grouping **ALL** the color channels (combining blues and reds and greens together).  Try it out:\n"
   ]
  },
  {
   "cell_type": "code",
   "execution_count": 140,
   "metadata": {},
   "outputs": [
    {
     "data": {
      "text/plain": [
       "np.float64(72.18011863425926)"
      ]
     },
     "execution_count": 140,
     "metadata": {},
     "output_type": "execute_result"
    }
   ],
   "source": [
    "pixels.mean()"
   ]
  },
  {
   "cell_type": "code",
   "execution_count": 141,
   "metadata": {},
   "outputs": [
    {
     "data": {
      "text/plain": [
       "array([[ 91,  83,  80],\n",
       "       [ 91,  83,  80],\n",
       "       [ 91,  83,  80],\n",
       "       ...,\n",
       "       [162, 131, 110],\n",
       "       [162, 131, 110],\n",
       "       [162, 131, 110]], dtype=uint8)"
      ]
     },
     "execution_count": 141,
     "metadata": {},
     "output_type": "execute_result"
    }
   ],
   "source": [
    "pixels = pixels.reshape(-1, 3)\n",
    "pixels\n"
   ]
  },
  {
   "attachments": {},
   "cell_type": "markdown",
   "metadata": {},
   "source": [
    "To find the average of each color channel, the `pixels.resize(-1, 3).mean(axis=0)` function will find the mean of everything **except** the color channels.  Check out the new mean:"
   ]
  },
  {
   "cell_type": "code",
   "execution_count": 142,
   "metadata": {},
   "outputs": [
    {
     "data": {
      "text/plain": [
       "array([88.65917535, 67.45620226, 60.4249783 ])"
      ]
     },
     "execution_count": 142,
     "metadata": {},
     "output_type": "execute_result"
    }
   ],
   "source": [
    "pixels.mean(axis=0)"
   ]
  },
  {
   "attachments": {},
   "cell_type": "markdown",
   "metadata": {},
   "source": [
    "### Puzzle 1.1: Finding the Average Color of One Image\n",
    "\n",
    "Store `pixel`'s average red value in `r`, average green value in `g`, and average blue value in `b`:"
   ]
  },
  {
   "cell_type": "code",
   "execution_count": 143,
   "metadata": {},
   "outputs": [
    {
     "data": {
      "text/plain": [
       "np.float64(88.65917534722222)"
      ]
     },
     "execution_count": 143,
     "metadata": {},
     "output_type": "execute_result"
    }
   ],
   "source": [
    "mean = pixels.mean(axis=0)\n",
    "r = mean[0]\n",
    "g = mean[1]\n",
    "b = mean[2]\n",
    "r"
   ]
  },
  {
   "cell_type": "code",
   "execution_count": 144,
   "metadata": {},
   "outputs": [
    {
     "name": "stdout",
     "output_type": "stream",
     "text": [
      "🎉 All Tests Passed! 🎉\n"
     ]
    }
   ],
   "source": [
    "### TEST CASE for Puzzle 1.1: Finding the Average Color of One Image\n",
    "tada = \"\\N{PARTY POPPER}\"\n",
    "\n",
    "import math\n",
    "assert(\"r\" in vars())\n",
    "assert(\"g\" in vars())\n",
    "assert(\"b\" in vars())\n",
    "assert(math.isclose(r, 88.65917534722222))\n",
    "assert(math.isclose(g, 67.45620225694445))\n",
    "assert(math.isclose(b, 60.42497829861111))\n",
    "\n",
    "print(f\"{tada} All Tests Passed! {tada}\")"
   ]
  },
  {
   "attachments": {},
   "cell_type": "markdown",
   "metadata": {},
   "source": [
    "### Puzzle 1.2: Finding the Average Color of All Images\n",
    "\n",
    "The following code loops through every file in the `frames` directory -- this will include `frame_0001.jpg` (like you analyzed already) and also `frame_0002.jpg`, `frame_0003.jpg`, and all 300+ frames!\n",
    "\n",
    "Create a DataFrame where each row is one frame with the following four columns:\n",
    "- `frame`, the filename of the frame\n",
    "- `r`, the average red color of the frame\n",
    "- `g`, the average green color of the frame\n",
    "- `b`, the average blue color of the frame\n",
    "\n",
    "The structure of the code should be nearly identical to writing a simulation.  Instead of creating random variables for your real world data, your real world data will be the filename, and the average color values.\n",
    "\n",
    "- See: https://discovery.cs.illinois.edu/learn/Simulation-and-Distributions/Simple-Simulations-in-Python/"
   ]
  },
  {
   "cell_type": "code",
   "execution_count": 145,
   "metadata": {},
   "outputs": [
    {
     "data": {
      "text/html": [
       "<div>\n",
       "<style scoped>\n",
       "    .dataframe tbody tr th:only-of-type {\n",
       "        vertical-align: middle;\n",
       "    }\n",
       "\n",
       "    .dataframe tbody tr th {\n",
       "        vertical-align: top;\n",
       "    }\n",
       "\n",
       "    .dataframe thead th {\n",
       "        text-align: right;\n",
       "    }\n",
       "</style>\n",
       "<table border=\"1\" class=\"dataframe\">\n",
       "  <thead>\n",
       "    <tr style=\"text-align: right;\">\n",
       "      <th></th>\n",
       "      <th>frame</th>\n",
       "      <th>r</th>\n",
       "      <th>g</th>\n",
       "      <th>b</th>\n",
       "    </tr>\n",
       "  </thead>\n",
       "  <tbody>\n",
       "    <tr>\n",
       "      <th>0</th>\n",
       "      <td>frames/frame_0028.jpg</td>\n",
       "      <td>88.659175</td>\n",
       "      <td>68.291619</td>\n",
       "      <td>60.394323</td>\n",
       "    </tr>\n",
       "    <tr>\n",
       "      <th>1</th>\n",
       "      <td>frames/frame_0014.jpg</td>\n",
       "      <td>88.659175</td>\n",
       "      <td>53.664076</td>\n",
       "      <td>45.780673</td>\n",
       "    </tr>\n",
       "    <tr>\n",
       "      <th>2</th>\n",
       "      <td>frames/frame_0216.jpg</td>\n",
       "      <td>88.659175</td>\n",
       "      <td>66.814054</td>\n",
       "      <td>61.303611</td>\n",
       "    </tr>\n",
       "    <tr>\n",
       "      <th>3</th>\n",
       "      <td>frames/frame_0202.jpg</td>\n",
       "      <td>88.659175</td>\n",
       "      <td>237.795842</td>\n",
       "      <td>235.532795</td>\n",
       "    </tr>\n",
       "    <tr>\n",
       "      <th>4</th>\n",
       "      <td>frames/frame_0148.jpg</td>\n",
       "      <td>88.659175</td>\n",
       "      <td>229.394049</td>\n",
       "      <td>227.089674</td>\n",
       "    </tr>\n",
       "    <tr>\n",
       "      <th>...</th>\n",
       "      <td>...</td>\n",
       "      <td>...</td>\n",
       "      <td>...</td>\n",
       "      <td>...</td>\n",
       "    </tr>\n",
       "    <tr>\n",
       "      <th>325</th>\n",
       "      <td>frames/frame_0227.jpg</td>\n",
       "      <td>88.659175</td>\n",
       "      <td>243.987266</td>\n",
       "      <td>242.135369</td>\n",
       "    </tr>\n",
       "    <tr>\n",
       "      <th>326</th>\n",
       "      <td>frames/frame_0233.jpg</td>\n",
       "      <td>88.659175</td>\n",
       "      <td>244.020039</td>\n",
       "      <td>242.136675</td>\n",
       "    </tr>\n",
       "    <tr>\n",
       "      <th>327</th>\n",
       "      <td>frames/frame_0019.jpg</td>\n",
       "      <td>88.659175</td>\n",
       "      <td>67.002426</td>\n",
       "      <td>59.679549</td>\n",
       "    </tr>\n",
       "    <tr>\n",
       "      <th>328</th>\n",
       "      <td>frames/frame_0025.jpg</td>\n",
       "      <td>88.659175</td>\n",
       "      <td>66.656454</td>\n",
       "      <td>59.014805</td>\n",
       "    </tr>\n",
       "    <tr>\n",
       "      <th>329</th>\n",
       "      <td>frames/frame_0031.jpg</td>\n",
       "      <td>88.659175</td>\n",
       "      <td>236.602648</td>\n",
       "      <td>236.892174</td>\n",
       "    </tr>\n",
       "  </tbody>\n",
       "</table>\n",
       "<p>330 rows × 4 columns</p>\n",
       "</div>"
      ],
      "text/plain": [
       "                     frame          r           g           b\n",
       "0    frames/frame_0028.jpg  88.659175   68.291619   60.394323\n",
       "1    frames/frame_0014.jpg  88.659175   53.664076   45.780673\n",
       "2    frames/frame_0216.jpg  88.659175   66.814054   61.303611\n",
       "3    frames/frame_0202.jpg  88.659175  237.795842  235.532795\n",
       "4    frames/frame_0148.jpg  88.659175  229.394049  227.089674\n",
       "..                     ...        ...         ...         ...\n",
       "325  frames/frame_0227.jpg  88.659175  243.987266  242.135369\n",
       "326  frames/frame_0233.jpg  88.659175  244.020039  242.136675\n",
       "327  frames/frame_0019.jpg  88.659175   67.002426   59.679549\n",
       "328  frames/frame_0025.jpg  88.659175   66.656454   59.014805\n",
       "329  frames/frame_0031.jpg  88.659175  236.602648  236.892174\n",
       "\n",
       "[330 rows x 4 columns]"
      ]
     },
     "execution_count": 145,
     "metadata": {},
     "output_type": "execute_result"
    }
   ],
   "source": [
    "import glob\n",
    "import os\n",
    "import pandas as pd\n",
    "\n",
    "data = []\n",
    "for frame in glob.glob(os.path.join(\"frames\", \"*.jpg\")): \n",
    "  # `frame`` contains the filename of the frame (ex: \"frames/frame_0001.jpg\").  Use it for `imread` to read the frame image data.\n",
    "  frame_pixels = imread(frame)\n",
    "  frame_pixels = frame_pixels.reshape(-1, 3)\n",
    "  r = pixels.mean(axis=0)[0]\n",
    "  g = frame_pixels.mean(axis=0)[1]\n",
    "  b = frame_pixels.mean(axis=0)[2]\n",
    "  d = {\"frame\": frame, \"r\": r, \"g\": g, \"b\": b}\n",
    "  data.append(d)\n",
    "df = pd.DataFrame(data)\n",
    "df"
   ]
  },
  {
   "attachments": {},
   "cell_type": "markdown",
   "metadata": {},
   "source": [
    "### 🔬 Checkpoint Tests 🔬"
   ]
  },
  {
   "cell_type": "code",
   "execution_count": 146,
   "metadata": {},
   "outputs": [
    {
     "name": "stdout",
     "output_type": "stream",
     "text": [
      "🎉 All Tests Passed! 🎉\n"
     ]
    }
   ],
   "source": [
    "### TEST CASE for Puzzle 1.2: Finding the Average Color of All Images\n",
    "tada = \"\\N{PARTY POPPER}\"\n",
    "\n",
    "import math\n",
    "assert(\"df\" in vars())\n",
    "assert(len(df) == 330)\n",
    "assert(\"r\" in df)\n",
    "assert(\"g\" in df)\n",
    "assert(\"b\" in df)\n",
    "assert(\"frame\" in df)\n",
    "assert( abs( df[ df.frame.str.endswith(\"_0001.jpg\") ][\"r\"].sum() - 88 ) < 1 )\n",
    "\n",
    "print(f\"{tada} All Tests Passed! {tada}\")"
   ]
  },
  {
   "attachments": {},
   "cell_type": "markdown",
   "metadata": {},
   "source": [
    "<hr style=\"color: #DD3403;\">"
   ]
  },
  {
   "attachments": {},
   "cell_type": "markdown",
   "metadata": {},
   "source": [
    "## Part 2: Create a Simple Classifier\n",
    "\n",
    "In the DISCOVERY lecture videos, there are two primary \"scenes\" in the video:\n",
    "\n",
    "1. **\"Office Hours Studio Scene\"**, where Karle and Wade are talking to each other and the audience,\n",
    "\n",
    "2. **\"Notebook Scene\"**, where the notebook is displayed\n",
    "\n",
    "View the `frames` folder on your computer and find **at least three more frames** that are in the \"office hours studio scene\" and **at least three more frames** that are in the \"notebook scene\".  Add the frames you found to the list below:"
   ]
  },
  {
   "cell_type": "code",
   "execution_count": 147,
   "metadata": {},
   "outputs": [],
   "source": [
    "# List of at least four office hour frames by the filename's frame number:\n",
    "office_hour_frames = [1, 29, 118, 299]\n",
    "\n",
    "# List of at least four notebook frames by the filename's frame number:\n",
    "notebook_frames = [30, 92, 189, 258]"
   ]
  },
  {
   "attachments": {},
   "cell_type": "markdown",
   "metadata": {},
   "source": [
    "### Observing the Average Colors of Your Frames\n",
    "\n",
    "The following code uses your sample frames to display the average color values for your selected frames:"
   ]
  },
  {
   "cell_type": "code",
   "execution_count": 148,
   "metadata": {},
   "outputs": [
    {
     "name": "stdout",
     "output_type": "stream",
     "text": [
      "== Office Hour Frames ==\n",
      "Empty DataFrame\n",
      "Columns: [frame, r, g, b]\n",
      "Index: []\n",
      "                     frame          r          g          b\n",
      "12   frames/frame_0001.jpg  88.659175  67.456202  60.424978\n",
      "14   frames/frame_0029.jpg  88.659175  67.881858  59.730273\n",
      "125  frames/frame_0299.jpg  88.659175  70.066285  62.480816\n",
      "213  frames/frame_0118.jpg  88.659175  67.930573  60.564405\n",
      "== Notebook Frames ==\n",
      "Empty DataFrame\n",
      "Columns: [frame, r, g, b]\n",
      "Index: []\n",
      "                     frame          r           g           b\n",
      "25   frames/frame_0189.jpg  88.659175  232.358021  230.135013\n",
      "134  frames/frame_0258.jpg  88.659175  243.130226  241.545473\n",
      "225  frames/frame_0092.jpg  88.659175  230.046940  230.497027\n",
      "310  frames/frame_0030.jpg  88.659175  236.513451  236.777122\n"
     ]
    }
   ],
   "source": [
    "print(\"== Office Hour Frames ==\")\n",
    "print( df[ df[\"frame\"].isin( [f\"frames\\\\frame_{frame:04d}.jpg\" for frame in office_hour_frames] ) ] )\n",
    "print(df[(df[\"frame\"] == \"frames/frame_0001.jpg\") | (df[\"frame\"] == \"frames/frame_0029.jpg\") | (df[\"frame\"] == \"frames/frame_0118.jpg\") | (df[\"frame\"] == \"frames/frame_0299.jpg\")])\n",
    "print(\"== Notebook Frames ==\")\n",
    "print( df[ df[\"frame\"].isin( [f\"frames\\\\frame_{frame:04d}.jpg\" for frame in notebook_frames] ) ] )\n",
    "print(df[(df[\"frame\"] == \"frames/frame_0030.jpg\") | (df[\"frame\"] == \"frames/frame_0092.jpg\") | (df[\"frame\"] == \"frames/frame_0189.jpg\") | (df[\"frame\"] == \"frames/frame_0258.jpg\")])"
   ]
  },
  {
   "attachments": {},
   "cell_type": "markdown",
   "metadata": {},
   "source": [
    "### Create Your Classifier Function\n",
    "\n",
    "A **classifier function** is a function that takes data and gives a classification for that data.  Create a new function, `classifyFrame` that receives an `r`, `g`, and `b` value.\n",
    "\n",
    "Using information from your frames above, have the function return the string `\"office hour\"` or `\"notebook\"` based on the values of `r`, `g`, and `b`.\n",
    "\n",
    "**IMPORTANT**: Make sure your classifier can handle **ANY** input -- even frames you have not seen before!  For example, you might decide that you will call a frame an `\"office hour\"` frame if the sum of `r`, `g` and `b` is greater than 100 and otherwise it's a `\"notebook\"` scene."
   ]
  },
  {
   "cell_type": "code",
   "execution_count": 149,
   "metadata": {},
   "outputs": [],
   "source": [
    "def classifyFrame(r, g, b):\n",
    "  # Return either \"office hour\" or \"notebook\" based on the values of `r`, `g`, and `b`.\n",
    "  sum_frame = r + g + b\n",
    "  if sum_frame < 288:\n",
    "    return \"office hour\" \n",
    "  else:\n",
    "    return \"notebook\""
   ]
  },
  {
   "attachments": {},
   "cell_type": "markdown",
   "metadata": {},
   "source": [
    "### 🔬 Checkpoint Tests 🔬"
   ]
  },
  {
   "cell_type": "code",
   "execution_count": 150,
   "metadata": {},
   "outputs": [
    {
     "name": "stdout",
     "output_type": "stream",
     "text": [
      "🎉 All Tests Passed! 🎉\n"
     ]
    }
   ],
   "source": [
    "### TEST CASE for Part 2: Create a Simple Classifier\n",
    "tada = \"\\N{PARTY POPPER}\"\n",
    "\n",
    "r = classifyFrame(0, 0, 0)\n",
    "assert(r == \"notebook\" or r == \"office hour\")\n",
    "\n",
    "r = classifyFrame(255, 255, 255)\n",
    "assert(r == \"notebook\" or r == \"office hour\")\n",
    "\n",
    "r = classifyFrame(0, 255, 255)\n",
    "assert(r == \"notebook\" or r == \"office hour\")\n",
    "\n",
    "r = classifyFrame(255, 255, 0)\n",
    "assert(r == \"notebook\" or r == \"office hour\")\n",
    "\n",
    "print(f\"{tada} All Tests Passed! {tada}\")"
   ]
  },
  {
   "attachments": {},
   "cell_type": "markdown",
   "metadata": {},
   "source": [
    "<hr style=\"color: #DD3403;\">"
   ]
  },
  {
   "attachments": {},
   "cell_type": "markdown",
   "metadata": {},
   "source": [
    "## Part 3: Using Your Classifier!\n",
    "\n",
    "Now that we have a classifier, we should run it on every frame!\n",
    "\n",
    "The following cell runs your `classifyFrame` classifier on every frame and adds a new column `scene` and displayed 20 random rows:"
   ]
  },
  {
   "cell_type": "code",
   "execution_count": 151,
   "metadata": {},
   "outputs": [
    {
     "data": {
      "text/html": [
       "<div>\n",
       "<style scoped>\n",
       "    .dataframe tbody tr th:only-of-type {\n",
       "        vertical-align: middle;\n",
       "    }\n",
       "\n",
       "    .dataframe tbody tr th {\n",
       "        vertical-align: top;\n",
       "    }\n",
       "\n",
       "    .dataframe thead th {\n",
       "        text-align: right;\n",
       "    }\n",
       "</style>\n",
       "<table border=\"1\" class=\"dataframe\">\n",
       "  <thead>\n",
       "    <tr style=\"text-align: right;\">\n",
       "      <th></th>\n",
       "      <th>frame</th>\n",
       "      <th>r</th>\n",
       "      <th>g</th>\n",
       "      <th>b</th>\n",
       "      <th>scene</th>\n",
       "    </tr>\n",
       "  </thead>\n",
       "  <tbody>\n",
       "    <tr>\n",
       "      <th>324</th>\n",
       "      <td>frames/frame_0186.jpg</td>\n",
       "      <td>88.659175</td>\n",
       "      <td>232.451589</td>\n",
       "      <td>230.251189</td>\n",
       "      <td>notebook</td>\n",
       "    </tr>\n",
       "    <tr>\n",
       "      <th>256</th>\n",
       "      <td>frames/frame_0021.jpg</td>\n",
       "      <td>88.659175</td>\n",
       "      <td>66.617891</td>\n",
       "      <td>59.294557</td>\n",
       "      <td>office hour</td>\n",
       "    </tr>\n",
       "    <tr>\n",
       "      <th>196</th>\n",
       "      <td>frames/frame_0054.jpg</td>\n",
       "      <td>88.659175</td>\n",
       "      <td>232.579991</td>\n",
       "      <td>232.816007</td>\n",
       "      <td>notebook</td>\n",
       "    </tr>\n",
       "    <tr>\n",
       "      <th>122</th>\n",
       "      <td>frames/frame_0312.jpg</td>\n",
       "      <td>88.659175</td>\n",
       "      <td>70.261745</td>\n",
       "      <td>62.894870</td>\n",
       "      <td>office hour</td>\n",
       "    </tr>\n",
       "    <tr>\n",
       "      <th>67</th>\n",
       "      <td>frames/frame_0275.jpg</td>\n",
       "      <td>88.659175</td>\n",
       "      <td>242.536293</td>\n",
       "      <td>241.133168</td>\n",
       "      <td>notebook</td>\n",
       "    </tr>\n",
       "    <tr>\n",
       "      <th>39</th>\n",
       "      <td>frames/frame_0167.jpg</td>\n",
       "      <td>88.659175</td>\n",
       "      <td>70.131476</td>\n",
       "      <td>62.044696</td>\n",
       "      <td>office hour</td>\n",
       "    </tr>\n",
       "    <tr>\n",
       "      <th>56</th>\n",
       "      <td>frames/frame_0170.jpg</td>\n",
       "      <td>88.659175</td>\n",
       "      <td>70.037899</td>\n",
       "      <td>62.148294</td>\n",
       "      <td>office hour</td>\n",
       "    </tr>\n",
       "    <tr>\n",
       "      <th>114</th>\n",
       "      <td>frames/frame_0307.jpg</td>\n",
       "      <td>88.659175</td>\n",
       "      <td>70.205560</td>\n",
       "      <td>62.805404</td>\n",
       "      <td>office hour</td>\n",
       "    </tr>\n",
       "    <tr>\n",
       "      <th>113</th>\n",
       "      <td>frames/frame_0313.jpg</td>\n",
       "      <td>88.659175</td>\n",
       "      <td>70.192526</td>\n",
       "      <td>62.526467</td>\n",
       "      <td>office hour</td>\n",
       "    </tr>\n",
       "    <tr>\n",
       "      <th>227</th>\n",
       "      <td>frames/frame_0090.jpg</td>\n",
       "      <td>88.659175</td>\n",
       "      <td>229.869128</td>\n",
       "      <td>230.489566</td>\n",
       "      <td>notebook</td>\n",
       "    </tr>\n",
       "    <tr>\n",
       "      <th>12</th>\n",
       "      <td>frames/frame_0001.jpg</td>\n",
       "      <td>88.659175</td>\n",
       "      <td>67.456202</td>\n",
       "      <td>60.424978</td>\n",
       "      <td>office hour</td>\n",
       "    </tr>\n",
       "    <tr>\n",
       "      <th>94</th>\n",
       "      <td>frames/frame_0114.jpg</td>\n",
       "      <td>88.659175</td>\n",
       "      <td>67.566775</td>\n",
       "      <td>60.430820</td>\n",
       "      <td>office hour</td>\n",
       "    </tr>\n",
       "    <tr>\n",
       "      <th>9</th>\n",
       "      <td>frames/frame_0149.jpg</td>\n",
       "      <td>88.659175</td>\n",
       "      <td>229.384944</td>\n",
       "      <td>227.075169</td>\n",
       "      <td>notebook</td>\n",
       "    </tr>\n",
       "    <tr>\n",
       "      <th>226</th>\n",
       "      <td>frames/frame_0086.jpg</td>\n",
       "      <td>88.659175</td>\n",
       "      <td>229.880538</td>\n",
       "      <td>230.484080</td>\n",
       "      <td>notebook</td>\n",
       "    </tr>\n",
       "    <tr>\n",
       "      <th>172</th>\n",
       "      <td>frames/frame_0057.jpg</td>\n",
       "      <td>88.659175</td>\n",
       "      <td>232.578247</td>\n",
       "      <td>232.814301</td>\n",
       "      <td>notebook</td>\n",
       "    </tr>\n",
       "    <tr>\n",
       "      <th>78</th>\n",
       "      <td>frames/frame_0328.jpg</td>\n",
       "      <td>88.659175</td>\n",
       "      <td>7.481519</td>\n",
       "      <td>7.487826</td>\n",
       "      <td>office hour</td>\n",
       "    </tr>\n",
       "    <tr>\n",
       "      <th>150</th>\n",
       "      <td>frames/frame_0081.jpg</td>\n",
       "      <td>88.659175</td>\n",
       "      <td>229.915091</td>\n",
       "      <td>230.483030</td>\n",
       "      <td>notebook</td>\n",
       "    </tr>\n",
       "    <tr>\n",
       "      <th>251</th>\n",
       "      <td>frames/frame_0052.jpg</td>\n",
       "      <td>88.659175</td>\n",
       "      <td>232.546962</td>\n",
       "      <td>232.750234</td>\n",
       "      <td>notebook</td>\n",
       "    </tr>\n",
       "    <tr>\n",
       "      <th>199</th>\n",
       "      <td>frames/frame_0097.jpg</td>\n",
       "      <td>88.659175</td>\n",
       "      <td>68.549384</td>\n",
       "      <td>62.152448</td>\n",
       "      <td>office hour</td>\n",
       "    </tr>\n",
       "    <tr>\n",
       "      <th>104</th>\n",
       "      <td>frames/frame_0075.jpg</td>\n",
       "      <td>88.659175</td>\n",
       "      <td>229.925187</td>\n",
       "      <td>230.472669</td>\n",
       "      <td>notebook</td>\n",
       "    </tr>\n",
       "  </tbody>\n",
       "</table>\n",
       "</div>"
      ],
      "text/plain": [
       "                     frame          r           g           b        scene\n",
       "324  frames/frame_0186.jpg  88.659175  232.451589  230.251189     notebook\n",
       "256  frames/frame_0021.jpg  88.659175   66.617891   59.294557  office hour\n",
       "196  frames/frame_0054.jpg  88.659175  232.579991  232.816007     notebook\n",
       "122  frames/frame_0312.jpg  88.659175   70.261745   62.894870  office hour\n",
       "67   frames/frame_0275.jpg  88.659175  242.536293  241.133168     notebook\n",
       "39   frames/frame_0167.jpg  88.659175   70.131476   62.044696  office hour\n",
       "56   frames/frame_0170.jpg  88.659175   70.037899   62.148294  office hour\n",
       "114  frames/frame_0307.jpg  88.659175   70.205560   62.805404  office hour\n",
       "113  frames/frame_0313.jpg  88.659175   70.192526   62.526467  office hour\n",
       "227  frames/frame_0090.jpg  88.659175  229.869128  230.489566     notebook\n",
       "12   frames/frame_0001.jpg  88.659175   67.456202   60.424978  office hour\n",
       "94   frames/frame_0114.jpg  88.659175   67.566775   60.430820  office hour\n",
       "9    frames/frame_0149.jpg  88.659175  229.384944  227.075169     notebook\n",
       "226  frames/frame_0086.jpg  88.659175  229.880538  230.484080     notebook\n",
       "172  frames/frame_0057.jpg  88.659175  232.578247  232.814301     notebook\n",
       "78   frames/frame_0328.jpg  88.659175    7.481519    7.487826  office hour\n",
       "150  frames/frame_0081.jpg  88.659175  229.915091  230.483030     notebook\n",
       "251  frames/frame_0052.jpg  88.659175  232.546962  232.750234     notebook\n",
       "199  frames/frame_0097.jpg  88.659175   68.549384   62.152448  office hour\n",
       "104  frames/frame_0075.jpg  88.659175  229.925187  230.472669     notebook"
      ]
     },
     "execution_count": 151,
     "metadata": {},
     "output_type": "execute_result"
    }
   ],
   "source": [
    "df[\"scene\"] = df.apply(lambda row: classifyFrame(row.r, row.g, row.b), axis=1)\n",
    "df.sample(20)"
   ]
  },
  {
   "cell_type": "code",
   "execution_count": 152,
   "metadata": {},
   "outputs": [
    {
     "data": {
      "text/html": [
       "<div>\n",
       "<style scoped>\n",
       "    .dataframe tbody tr th:only-of-type {\n",
       "        vertical-align: middle;\n",
       "    }\n",
       "\n",
       "    .dataframe tbody tr th {\n",
       "        vertical-align: top;\n",
       "    }\n",
       "\n",
       "    .dataframe thead th {\n",
       "        text-align: right;\n",
       "    }\n",
       "</style>\n",
       "<table border=\"1\" class=\"dataframe\">\n",
       "  <thead>\n",
       "    <tr style=\"text-align: right;\">\n",
       "      <th></th>\n",
       "      <th>frame</th>\n",
       "      <th>r</th>\n",
       "      <th>g</th>\n",
       "      <th>b</th>\n",
       "      <th>scene</th>\n",
       "    </tr>\n",
       "  </thead>\n",
       "  <tbody>\n",
       "    <tr>\n",
       "      <th>312</th>\n",
       "      <td>frames/frame_0018.jpg</td>\n",
       "      <td>88.659175</td>\n",
       "      <td>65.819722</td>\n",
       "      <td>58.584336</td>\n",
       "      <td>office hour</td>\n",
       "    </tr>\n",
       "  </tbody>\n",
       "</table>\n",
       "</div>"
      ],
      "text/plain": [
       "                     frame          r          g          b        scene\n",
       "312  frames/frame_0018.jpg  88.659175  65.819722  58.584336  office hour"
      ]
     },
     "execution_count": 152,
     "metadata": {},
     "output_type": "execute_result"
    }
   ],
   "source": [
    "df[ (df.frame.str.endswith(\"0018.jpg\"))]"
   ]
  },
  {
   "attachments": {},
   "cell_type": "markdown",
   "metadata": {},
   "source": [
    "### 🔬 Checkpoint Tests 🔬"
   ]
  },
  {
   "cell_type": "code",
   "execution_count": 153,
   "metadata": {},
   "outputs": [
    {
     "name": "stdout",
     "output_type": "stream",
     "text": [
      "🎉 All Tests Passed! 🎉\n"
     ]
    }
   ],
   "source": [
    "### TEST CASE for Part 3: Using Your Classifier\n",
    "tada = \"\\N{PARTY POPPER}\"\n",
    "\n",
    "assert(\"scene\" in df)\n",
    "\n",
    "assert(len(df[ df.scene == \"notebook\" ]) > 100)\n",
    "assert(len(df[ df.scene == \"office hour\" ]) > 75)\n",
    "assert(len(df[ df.scene == \"notebook\" ]) + len(df[ df.scene == \"office hour\" ]) == len(df))\n",
    "\n",
    "assert( len( df[ (df.frame.str.endswith(\"0001.jpg\")) & (df.scene == \"office hour\") ] ) == 1 )\n",
    "assert( len( df[ (df.frame.str.endswith(\"0306.jpg\")) & (df.scene == \"office hour\") ] ) == 1 )\n",
    "assert( len( df[ (df.frame.str.endswith(\"0081.jpg\")) & (df.scene == \"notebook\") ] ) == 1 )\n",
    "assert( len( df[ (df.frame.str.endswith(\"0191.jpg\")) & (df.scene == \"notebook\") ] ) == 1 )\n",
    "\n",
    "print(f\"{tada} All Tests Passed! {tada}\")"
   ]
  },
  {
   "attachments": {},
   "cell_type": "markdown",
   "metadata": {},
   "source": [
    "## Observing Results\n",
    "\n",
    "In the next 5 cells, we display a frame and you'll run code to check what your classifier classified the frame as being!  Make sure to run the code for each frame:"
   ]
  },
  {
   "attachments": {},
   "cell_type": "markdown",
   "metadata": {},
   "source": [
    "### Frame #0001: Office Hours"
   ]
  },
  {
   "cell_type": "code",
   "execution_count": 154,
   "metadata": {},
   "outputs": [
    {
     "data": {
      "text/html": [
       "<div>\n",
       "<style scoped>\n",
       "    .dataframe tbody tr th:only-of-type {\n",
       "        vertical-align: middle;\n",
       "    }\n",
       "\n",
       "    .dataframe tbody tr th {\n",
       "        vertical-align: top;\n",
       "    }\n",
       "\n",
       "    .dataframe thead th {\n",
       "        text-align: right;\n",
       "    }\n",
       "</style>\n",
       "<table border=\"1\" class=\"dataframe\">\n",
       "  <thead>\n",
       "    <tr style=\"text-align: right;\">\n",
       "      <th></th>\n",
       "      <th>frame</th>\n",
       "      <th>r</th>\n",
       "      <th>g</th>\n",
       "      <th>b</th>\n",
       "      <th>scene</th>\n",
       "    </tr>\n",
       "  </thead>\n",
       "  <tbody>\n",
       "    <tr>\n",
       "      <th>12</th>\n",
       "      <td>frames/frame_0001.jpg</td>\n",
       "      <td>88.659175</td>\n",
       "      <td>67.456202</td>\n",
       "      <td>60.424978</td>\n",
       "      <td>office hour</td>\n",
       "    </tr>\n",
       "  </tbody>\n",
       "</table>\n",
       "</div>"
      ],
      "text/plain": [
       "                    frame          r          g          b        scene\n",
       "12  frames/frame_0001.jpg  88.659175  67.456202  60.424978  office hour"
      ]
     },
     "execution_count": 154,
     "metadata": {},
     "output_type": "execute_result"
    }
   ],
   "source": [
    "df[ df.frame.str.endswith(\"0001.jpg\") ]"
   ]
  },
  {
   "attachments": {},
   "cell_type": "markdown",
   "metadata": {},
   "source": [
    "![Frame 0001](frames/frame_0001.jpg)"
   ]
  },
  {
   "attachments": {},
   "cell_type": "markdown",
   "metadata": {},
   "source": [
    "### Frame #0081: Notebook"
   ]
  },
  {
   "cell_type": "code",
   "execution_count": 155,
   "metadata": {},
   "outputs": [
    {
     "data": {
      "text/html": [
       "<div>\n",
       "<style scoped>\n",
       "    .dataframe tbody tr th:only-of-type {\n",
       "        vertical-align: middle;\n",
       "    }\n",
       "\n",
       "    .dataframe tbody tr th {\n",
       "        vertical-align: top;\n",
       "    }\n",
       "\n",
       "    .dataframe thead th {\n",
       "        text-align: right;\n",
       "    }\n",
       "</style>\n",
       "<table border=\"1\" class=\"dataframe\">\n",
       "  <thead>\n",
       "    <tr style=\"text-align: right;\">\n",
       "      <th></th>\n",
       "      <th>frame</th>\n",
       "      <th>r</th>\n",
       "      <th>g</th>\n",
       "      <th>b</th>\n",
       "      <th>scene</th>\n",
       "    </tr>\n",
       "  </thead>\n",
       "  <tbody>\n",
       "    <tr>\n",
       "      <th>150</th>\n",
       "      <td>frames/frame_0081.jpg</td>\n",
       "      <td>88.659175</td>\n",
       "      <td>229.915091</td>\n",
       "      <td>230.48303</td>\n",
       "      <td>notebook</td>\n",
       "    </tr>\n",
       "  </tbody>\n",
       "</table>\n",
       "</div>"
      ],
      "text/plain": [
       "                     frame          r           g          b     scene\n",
       "150  frames/frame_0081.jpg  88.659175  229.915091  230.48303  notebook"
      ]
     },
     "execution_count": 155,
     "metadata": {},
     "output_type": "execute_result"
    }
   ],
   "source": [
    "df[ df.frame.str.endswith(\"0081.jpg\") ]"
   ]
  },
  {
   "attachments": {},
   "cell_type": "markdown",
   "metadata": {},
   "source": [
    "![Frame 0001](frames/frame_0081.jpg)"
   ]
  },
  {
   "attachments": {},
   "cell_type": "markdown",
   "metadata": {},
   "source": [
    "### Frame #0191: Notebook"
   ]
  },
  {
   "cell_type": "code",
   "execution_count": 156,
   "metadata": {},
   "outputs": [
    {
     "data": {
      "text/html": [
       "<div>\n",
       "<style scoped>\n",
       "    .dataframe tbody tr th:only-of-type {\n",
       "        vertical-align: middle;\n",
       "    }\n",
       "\n",
       "    .dataframe tbody tr th {\n",
       "        vertical-align: top;\n",
       "    }\n",
       "\n",
       "    .dataframe thead th {\n",
       "        text-align: right;\n",
       "    }\n",
       "</style>\n",
       "<table border=\"1\" class=\"dataframe\">\n",
       "  <thead>\n",
       "    <tr style=\"text-align: right;\">\n",
       "      <th></th>\n",
       "      <th>frame</th>\n",
       "      <th>r</th>\n",
       "      <th>g</th>\n",
       "      <th>b</th>\n",
       "      <th>scene</th>\n",
       "    </tr>\n",
       "  </thead>\n",
       "  <tbody>\n",
       "    <tr>\n",
       "      <th>304</th>\n",
       "      <td>frames/frame_0191.jpg</td>\n",
       "      <td>88.659175</td>\n",
       "      <td>232.354644</td>\n",
       "      <td>230.103359</td>\n",
       "      <td>notebook</td>\n",
       "    </tr>\n",
       "  </tbody>\n",
       "</table>\n",
       "</div>"
      ],
      "text/plain": [
       "                     frame          r           g           b     scene\n",
       "304  frames/frame_0191.jpg  88.659175  232.354644  230.103359  notebook"
      ]
     },
     "execution_count": 156,
     "metadata": {},
     "output_type": "execute_result"
    }
   ],
   "source": [
    "df[ df.frame.str.endswith(\"0191.jpg\") ]"
   ]
  },
  {
   "attachments": {},
   "cell_type": "markdown",
   "metadata": {},
   "source": [
    "![Frame 0001](frames/frame_0191.jpg)"
   ]
  },
  {
   "attachments": {},
   "cell_type": "markdown",
   "metadata": {},
   "source": [
    "### Frame #0306: Office Hours"
   ]
  },
  {
   "cell_type": "code",
   "execution_count": 157,
   "metadata": {},
   "outputs": [
    {
     "data": {
      "text/html": [
       "<div>\n",
       "<style scoped>\n",
       "    .dataframe tbody tr th:only-of-type {\n",
       "        vertical-align: middle;\n",
       "    }\n",
       "\n",
       "    .dataframe tbody tr th {\n",
       "        vertical-align: top;\n",
       "    }\n",
       "\n",
       "    .dataframe thead th {\n",
       "        text-align: right;\n",
       "    }\n",
       "</style>\n",
       "<table border=\"1\" class=\"dataframe\">\n",
       "  <thead>\n",
       "    <tr style=\"text-align: right;\">\n",
       "      <th></th>\n",
       "      <th>frame</th>\n",
       "      <th>r</th>\n",
       "      <th>g</th>\n",
       "      <th>b</th>\n",
       "      <th>scene</th>\n",
       "    </tr>\n",
       "  </thead>\n",
       "  <tbody>\n",
       "    <tr>\n",
       "      <th>121</th>\n",
       "      <td>frames/frame_0306.jpg</td>\n",
       "      <td>88.659175</td>\n",
       "      <td>70.149223</td>\n",
       "      <td>62.83901</td>\n",
       "      <td>office hour</td>\n",
       "    </tr>\n",
       "  </tbody>\n",
       "</table>\n",
       "</div>"
      ],
      "text/plain": [
       "                     frame          r          g         b        scene\n",
       "121  frames/frame_0306.jpg  88.659175  70.149223  62.83901  office hour"
      ]
     },
     "execution_count": 157,
     "metadata": {},
     "output_type": "execute_result"
    }
   ],
   "source": [
    "df[ df.frame.str.endswith(\"0306.jpg\") ]"
   ]
  },
  {
   "attachments": {},
   "cell_type": "markdown",
   "metadata": {},
   "source": [
    "![Frame 0001](frames/frame_0306.jpg)"
   ]
  },
  {
   "attachments": {},
   "cell_type": "markdown",
   "metadata": {},
   "source": [
    "### Frame #0320: Data Science Duo Logo???\n",
    "\n",
    "What did you classify the DUO logo as?  It's nether one, but we don't have that option!"
   ]
  },
  {
   "cell_type": "code",
   "execution_count": 158,
   "metadata": {},
   "outputs": [
    {
     "data": {
      "text/html": [
       "<div>\n",
       "<style scoped>\n",
       "    .dataframe tbody tr th:only-of-type {\n",
       "        vertical-align: middle;\n",
       "    }\n",
       "\n",
       "    .dataframe tbody tr th {\n",
       "        vertical-align: top;\n",
       "    }\n",
       "\n",
       "    .dataframe thead th {\n",
       "        text-align: right;\n",
       "    }\n",
       "</style>\n",
       "<table border=\"1\" class=\"dataframe\">\n",
       "  <thead>\n",
       "    <tr style=\"text-align: right;\">\n",
       "      <th></th>\n",
       "      <th>frame</th>\n",
       "      <th>r</th>\n",
       "      <th>g</th>\n",
       "      <th>b</th>\n",
       "      <th>scene</th>\n",
       "    </tr>\n",
       "  </thead>\n",
       "  <tbody>\n",
       "    <tr>\n",
       "      <th>159</th>\n",
       "      <td>frames/frame_0320.jpg</td>\n",
       "      <td>88.659175</td>\n",
       "      <td>71.838433</td>\n",
       "      <td>54.457305</td>\n",
       "      <td>office hour</td>\n",
       "    </tr>\n",
       "  </tbody>\n",
       "</table>\n",
       "</div>"
      ],
      "text/plain": [
       "                     frame          r          g          b        scene\n",
       "159  frames/frame_0320.jpg  88.659175  71.838433  54.457305  office hour"
      ]
     },
     "execution_count": 158,
     "metadata": {},
     "output_type": "execute_result"
    }
   ],
   "source": [
    "df[ df.frame.str.endswith(\"0320.jpg\") ]"
   ]
  },
  {
   "attachments": {},
   "cell_type": "markdown",
   "metadata": {},
   "source": [
    "![Frame 0001](frames/frame_0320.jpg)"
   ]
  },
  {
   "attachments": {},
   "cell_type": "markdown",
   "metadata": {},
   "source": [
    "### Frame #328: Video Credits\n",
    "\n",
    "What did you classify the DUO logo as?  It's another tricky one!\n"
   ]
  },
  {
   "cell_type": "code",
   "execution_count": 159,
   "metadata": {},
   "outputs": [
    {
     "data": {
      "text/html": [
       "<div>\n",
       "<style scoped>\n",
       "    .dataframe tbody tr th:only-of-type {\n",
       "        vertical-align: middle;\n",
       "    }\n",
       "\n",
       "    .dataframe tbody tr th {\n",
       "        vertical-align: top;\n",
       "    }\n",
       "\n",
       "    .dataframe thead th {\n",
       "        text-align: right;\n",
       "    }\n",
       "</style>\n",
       "<table border=\"1\" class=\"dataframe\">\n",
       "  <thead>\n",
       "    <tr style=\"text-align: right;\">\n",
       "      <th></th>\n",
       "      <th>frame</th>\n",
       "      <th>r</th>\n",
       "      <th>g</th>\n",
       "      <th>b</th>\n",
       "      <th>scene</th>\n",
       "    </tr>\n",
       "  </thead>\n",
       "  <tbody>\n",
       "    <tr>\n",
       "      <th>78</th>\n",
       "      <td>frames/frame_0328.jpg</td>\n",
       "      <td>88.659175</td>\n",
       "      <td>7.481519</td>\n",
       "      <td>7.487826</td>\n",
       "      <td>office hour</td>\n",
       "    </tr>\n",
       "  </tbody>\n",
       "</table>\n",
       "</div>"
      ],
      "text/plain": [
       "                    frame          r         g         b        scene\n",
       "78  frames/frame_0328.jpg  88.659175  7.481519  7.487826  office hour"
      ]
     },
     "execution_count": 159,
     "metadata": {},
     "output_type": "execute_result"
    }
   ],
   "source": [
    "df[ df.frame.str.endswith(\"0328.jpg\") ]"
   ]
  },
  {
   "attachments": {},
   "cell_type": "markdown",
   "metadata": {},
   "source": [
    "![Frame 0328](frames/frame_0328.jpg)"
   ]
  },
  {
   "attachments": {},
   "cell_type": "markdown",
   "metadata": {},
   "source": [
    "<hr style=\"color: #DD3403;\">"
   ]
  },
  {
   "attachments": {},
   "cell_type": "markdown",
   "metadata": {},
   "source": [
    "## Part 4: Update Your Classifier to Account with an \"Other\" Category\n",
    "\n",
    "Create a second classifier -- `classifyFrame2` -- that returns either `\"notebook\"`, `\"office hour\"` or `\"other\"`.  Your classifier should correctly handle the \"Data Science Duo\" (ex: #0320) frames and the \"Credit\" frames (ex: #0328)."
   ]
  },
  {
   "cell_type": "code",
   "execution_count": 160,
   "metadata": {},
   "outputs": [
    {
     "data": {
      "text/html": [
       "<div>\n",
       "<style scoped>\n",
       "    .dataframe tbody tr th:only-of-type {\n",
       "        vertical-align: middle;\n",
       "    }\n",
       "\n",
       "    .dataframe tbody tr th {\n",
       "        vertical-align: top;\n",
       "    }\n",
       "\n",
       "    .dataframe thead th {\n",
       "        text-align: right;\n",
       "    }\n",
       "</style>\n",
       "<table border=\"1\" class=\"dataframe\">\n",
       "  <thead>\n",
       "    <tr style=\"text-align: right;\">\n",
       "      <th></th>\n",
       "      <th>frame</th>\n",
       "      <th>r</th>\n",
       "      <th>g</th>\n",
       "      <th>b</th>\n",
       "      <th>scene</th>\n",
       "    </tr>\n",
       "  </thead>\n",
       "  <tbody>\n",
       "    <tr>\n",
       "      <th>91</th>\n",
       "      <td>frames/frame_0316.jpg</td>\n",
       "      <td>88.659175</td>\n",
       "      <td>67.024722</td>\n",
       "      <td>48.608728</td>\n",
       "      <td>office hour</td>\n",
       "    </tr>\n",
       "    <tr>\n",
       "      <th>159</th>\n",
       "      <td>frames/frame_0320.jpg</td>\n",
       "      <td>88.659175</td>\n",
       "      <td>71.838433</td>\n",
       "      <td>54.457305</td>\n",
       "      <td>office hour</td>\n",
       "    </tr>\n",
       "    <tr>\n",
       "      <th>164</th>\n",
       "      <td>frames/frame_0321.jpg</td>\n",
       "      <td>88.659175</td>\n",
       "      <td>80.898411</td>\n",
       "      <td>63.118472</td>\n",
       "      <td>office hour</td>\n",
       "    </tr>\n",
       "  </tbody>\n",
       "</table>\n",
       "</div>"
      ],
      "text/plain": [
       "                     frame          r          g          b        scene\n",
       "91   frames/frame_0316.jpg  88.659175  67.024722  48.608728  office hour\n",
       "159  frames/frame_0320.jpg  88.659175  71.838433  54.457305  office hour\n",
       "164  frames/frame_0321.jpg  88.659175  80.898411  63.118472  office hour"
      ]
     },
     "execution_count": 160,
     "metadata": {},
     "output_type": "execute_result"
    }
   ],
   "source": [
    "df[ (df.frame.str.endswith(\"0316.jpg\")) | (df.frame.str.endswith(\"0320.jpg\")) | (df.frame.str.endswith(\"0321.jpg\"))]"
   ]
  },
  {
   "cell_type": "code",
   "execution_count": 161,
   "metadata": {},
   "outputs": [
    {
     "data": {
      "text/html": [
       "<div>\n",
       "<style scoped>\n",
       "    .dataframe tbody tr th:only-of-type {\n",
       "        vertical-align: middle;\n",
       "    }\n",
       "\n",
       "    .dataframe tbody tr th {\n",
       "        vertical-align: top;\n",
       "    }\n",
       "\n",
       "    .dataframe thead th {\n",
       "        text-align: right;\n",
       "    }\n",
       "</style>\n",
       "<table border=\"1\" class=\"dataframe\">\n",
       "  <thead>\n",
       "    <tr style=\"text-align: right;\">\n",
       "      <th></th>\n",
       "      <th>frame</th>\n",
       "      <th>r</th>\n",
       "      <th>g</th>\n",
       "      <th>b</th>\n",
       "      <th>scene</th>\n",
       "      <th>sum</th>\n",
       "    </tr>\n",
       "  </thead>\n",
       "  <tbody>\n",
       "    <tr>\n",
       "      <th>320</th>\n",
       "      <td>frames/frame_0321.jpg</td>\n",
       "      <td>88.659175</td>\n",
       "      <td>80.898411</td>\n",
       "      <td>63.118472</td>\n",
       "      <td>office hour</td>\n",
       "      <td>232.676059</td>\n",
       "    </tr>\n",
       "    <tr>\n",
       "      <th>318</th>\n",
       "      <td>frames/frame_0319.jpg</td>\n",
       "      <td>88.659175</td>\n",
       "      <td>72.007214</td>\n",
       "      <td>54.584670</td>\n",
       "      <td>office hour</td>\n",
       "      <td>215.251059</td>\n",
       "    </tr>\n",
       "    <tr>\n",
       "      <th>319</th>\n",
       "      <td>frames/frame_0320.jpg</td>\n",
       "      <td>88.659175</td>\n",
       "      <td>71.838433</td>\n",
       "      <td>54.457305</td>\n",
       "      <td>office hour</td>\n",
       "      <td>214.954913</td>\n",
       "    </tr>\n",
       "    <tr>\n",
       "      <th>174</th>\n",
       "      <td>frames/frame_0175.jpg</td>\n",
       "      <td>88.659175</td>\n",
       "      <td>71.015408</td>\n",
       "      <td>63.906680</td>\n",
       "      <td>office hour</td>\n",
       "      <td>223.581263</td>\n",
       "    </tr>\n",
       "    <tr>\n",
       "      <th>303</th>\n",
       "      <td>frames/frame_0304.jpg</td>\n",
       "      <td>88.659175</td>\n",
       "      <td>70.626554</td>\n",
       "      <td>63.144909</td>\n",
       "      <td>office hour</td>\n",
       "      <td>222.430638</td>\n",
       "    </tr>\n",
       "    <tr>\n",
       "      <th>309</th>\n",
       "      <td>frames/frame_0310.jpg</td>\n",
       "      <td>88.659175</td>\n",
       "      <td>70.553273</td>\n",
       "      <td>63.082947</td>\n",
       "      <td>office hour</td>\n",
       "      <td>222.295395</td>\n",
       "    </tr>\n",
       "    <tr>\n",
       "      <th>293</th>\n",
       "      <td>frames/frame_0294.jpg</td>\n",
       "      <td>88.659175</td>\n",
       "      <td>70.404570</td>\n",
       "      <td>62.928372</td>\n",
       "      <td>office hour</td>\n",
       "      <td>221.992118</td>\n",
       "    </tr>\n",
       "    <tr>\n",
       "      <th>302</th>\n",
       "      <td>frames/frame_0303.jpg</td>\n",
       "      <td>88.659175</td>\n",
       "      <td>70.382357</td>\n",
       "      <td>62.886363</td>\n",
       "      <td>office hour</td>\n",
       "      <td>221.927895</td>\n",
       "    </tr>\n",
       "    <tr>\n",
       "      <th>294</th>\n",
       "      <td>frames/frame_0295.jpg</td>\n",
       "      <td>88.659175</td>\n",
       "      <td>70.339766</td>\n",
       "      <td>63.319740</td>\n",
       "      <td>office hour</td>\n",
       "      <td>222.318681</td>\n",
       "    </tr>\n",
       "    <tr>\n",
       "      <th>308</th>\n",
       "      <td>frames/frame_0309.jpg</td>\n",
       "      <td>88.659175</td>\n",
       "      <td>70.325065</td>\n",
       "      <td>62.954852</td>\n",
       "      <td>office hour</td>\n",
       "      <td>221.939093</td>\n",
       "    </tr>\n",
       "    <tr>\n",
       "      <th>170</th>\n",
       "      <td>frames/frame_0171.jpg</td>\n",
       "      <td>88.659175</td>\n",
       "      <td>70.301437</td>\n",
       "      <td>62.171632</td>\n",
       "      <td>office hour</td>\n",
       "      <td>221.132244</td>\n",
       "    </tr>\n",
       "    <tr>\n",
       "      <th>173</th>\n",
       "      <td>frames/frame_0174.jpg</td>\n",
       "      <td>88.659175</td>\n",
       "      <td>70.290955</td>\n",
       "      <td>61.936580</td>\n",
       "      <td>office hour</td>\n",
       "      <td>220.886710</td>\n",
       "    </tr>\n",
       "    <tr>\n",
       "      <th>311</th>\n",
       "      <td>frames/frame_0312.jpg</td>\n",
       "      <td>88.659175</td>\n",
       "      <td>70.261745</td>\n",
       "      <td>62.894870</td>\n",
       "      <td>office hour</td>\n",
       "      <td>221.815790</td>\n",
       "    </tr>\n",
       "    <tr>\n",
       "      <th>307</th>\n",
       "      <td>frames/frame_0308.jpg</td>\n",
       "      <td>88.659175</td>\n",
       "      <td>70.244049</td>\n",
       "      <td>62.887799</td>\n",
       "      <td>office hour</td>\n",
       "      <td>221.791024</td>\n",
       "    </tr>\n",
       "    <tr>\n",
       "      <th>306</th>\n",
       "      <td>frames/frame_0307.jpg</td>\n",
       "      <td>88.659175</td>\n",
       "      <td>70.205560</td>\n",
       "      <td>62.805404</td>\n",
       "      <td>office hour</td>\n",
       "      <td>221.670139</td>\n",
       "    </tr>\n",
       "  </tbody>\n",
       "</table>\n",
       "</div>"
      ],
      "text/plain": [
       "                     frame          r          g          b        scene  \\\n",
       "320  frames/frame_0321.jpg  88.659175  80.898411  63.118472  office hour   \n",
       "318  frames/frame_0319.jpg  88.659175  72.007214  54.584670  office hour   \n",
       "319  frames/frame_0320.jpg  88.659175  71.838433  54.457305  office hour   \n",
       "174  frames/frame_0175.jpg  88.659175  71.015408  63.906680  office hour   \n",
       "303  frames/frame_0304.jpg  88.659175  70.626554  63.144909  office hour   \n",
       "309  frames/frame_0310.jpg  88.659175  70.553273  63.082947  office hour   \n",
       "293  frames/frame_0294.jpg  88.659175  70.404570  62.928372  office hour   \n",
       "302  frames/frame_0303.jpg  88.659175  70.382357  62.886363  office hour   \n",
       "294  frames/frame_0295.jpg  88.659175  70.339766  63.319740  office hour   \n",
       "308  frames/frame_0309.jpg  88.659175  70.325065  62.954852  office hour   \n",
       "170  frames/frame_0171.jpg  88.659175  70.301437  62.171632  office hour   \n",
       "173  frames/frame_0174.jpg  88.659175  70.290955  61.936580  office hour   \n",
       "311  frames/frame_0312.jpg  88.659175  70.261745  62.894870  office hour   \n",
       "307  frames/frame_0308.jpg  88.659175  70.244049  62.887799  office hour   \n",
       "306  frames/frame_0307.jpg  88.659175  70.205560  62.805404  office hour   \n",
       "\n",
       "            sum  \n",
       "320  232.676059  \n",
       "318  215.251059  \n",
       "319  214.954913  \n",
       "174  223.581263  \n",
       "303  222.430638  \n",
       "309  222.295395  \n",
       "293  221.992118  \n",
       "302  221.927895  \n",
       "294  222.318681  \n",
       "308  221.939093  \n",
       "170  221.132244  \n",
       "173  220.886710  \n",
       "311  221.815790  \n",
       "307  221.791024  \n",
       "306  221.670139  "
      ]
     },
     "execution_count": 161,
     "metadata": {},
     "output_type": "execute_result"
    }
   ],
   "source": [
    "df_sorted = df.sort_values(\"frame\").reset_index()\n",
    "df_sorted = df_sorted.drop(columns=\"index\")\n",
    "df_sorted[\"sum\"] = df_sorted[\"r\"] + df_sorted[\"g\"] + df_sorted[\"b\"]\n",
    "df_sorted[df_sorted[\"scene\"] == \"office hour\"].nlargest(15, \"g\")"
   ]
  },
  {
   "cell_type": "code",
   "execution_count": 162,
   "metadata": {},
   "outputs": [
    {
     "data": {
      "text/html": [
       "<div>\n",
       "<style scoped>\n",
       "    .dataframe tbody tr th:only-of-type {\n",
       "        vertical-align: middle;\n",
       "    }\n",
       "\n",
       "    .dataframe tbody tr th {\n",
       "        vertical-align: top;\n",
       "    }\n",
       "\n",
       "    .dataframe thead th {\n",
       "        text-align: right;\n",
       "    }\n",
       "</style>\n",
       "<table border=\"1\" class=\"dataframe\">\n",
       "  <thead>\n",
       "    <tr style=\"text-align: right;\">\n",
       "      <th></th>\n",
       "      <th>frame</th>\n",
       "      <th>r</th>\n",
       "      <th>g</th>\n",
       "      <th>b</th>\n",
       "      <th>scene</th>\n",
       "    </tr>\n",
       "  </thead>\n",
       "  <tbody>\n",
       "    <tr>\n",
       "      <th>91</th>\n",
       "      <td>frames/frame_0316.jpg</td>\n",
       "      <td>88.659175</td>\n",
       "      <td>67.024722</td>\n",
       "      <td>48.608728</td>\n",
       "      <td>office hour</td>\n",
       "    </tr>\n",
       "    <tr>\n",
       "      <th>100</th>\n",
       "      <td>frames/frame_0317.jpg</td>\n",
       "      <td>88.659175</td>\n",
       "      <td>66.995486</td>\n",
       "      <td>47.766740</td>\n",
       "      <td>office hour</td>\n",
       "    </tr>\n",
       "    <tr>\n",
       "      <th>159</th>\n",
       "      <td>frames/frame_0320.jpg</td>\n",
       "      <td>88.659175</td>\n",
       "      <td>71.838433</td>\n",
       "      <td>54.457305</td>\n",
       "      <td>office hour</td>\n",
       "    </tr>\n",
       "    <tr>\n",
       "      <th>237</th>\n",
       "      <td>frames/frame_0319.jpg</td>\n",
       "      <td>88.659175</td>\n",
       "      <td>72.007214</td>\n",
       "      <td>54.584670</td>\n",
       "      <td>office hour</td>\n",
       "    </tr>\n",
       "    <tr>\n",
       "      <th>242</th>\n",
       "      <td>frames/frame_0318.jpg</td>\n",
       "      <td>88.659175</td>\n",
       "      <td>67.101398</td>\n",
       "      <td>48.556484</td>\n",
       "      <td>office hour</td>\n",
       "    </tr>\n",
       "  </tbody>\n",
       "</table>\n",
       "</div>"
      ],
      "text/plain": [
       "                     frame          r          g          b        scene\n",
       "91   frames/frame_0316.jpg  88.659175  67.024722  48.608728  office hour\n",
       "100  frames/frame_0317.jpg  88.659175  66.995486  47.766740  office hour\n",
       "159  frames/frame_0320.jpg  88.659175  71.838433  54.457305  office hour\n",
       "237  frames/frame_0319.jpg  88.659175  72.007214  54.584670  office hour\n",
       "242  frames/frame_0318.jpg  88.659175  67.101398  48.556484  office hour"
      ]
     },
     "execution_count": 162,
     "metadata": {},
     "output_type": "execute_result"
    }
   ],
   "source": [
    "df[(df.g > 65) & (df.b < 55)]"
   ]
  },
  {
   "cell_type": "code",
   "execution_count": 163,
   "metadata": {},
   "outputs": [
    {
     "data": {
      "text/html": [
       "<div>\n",
       "<style scoped>\n",
       "    .dataframe tbody tr th:only-of-type {\n",
       "        vertical-align: middle;\n",
       "    }\n",
       "\n",
       "    .dataframe tbody tr th {\n",
       "        vertical-align: top;\n",
       "    }\n",
       "\n",
       "    .dataframe thead th {\n",
       "        text-align: right;\n",
       "    }\n",
       "</style>\n",
       "<table border=\"1\" class=\"dataframe\">\n",
       "  <thead>\n",
       "    <tr style=\"text-align: right;\">\n",
       "      <th></th>\n",
       "      <th>frame</th>\n",
       "      <th>r</th>\n",
       "      <th>g</th>\n",
       "      <th>b</th>\n",
       "      <th>scene</th>\n",
       "      <th>sum</th>\n",
       "    </tr>\n",
       "  </thead>\n",
       "  <tbody>\n",
       "    <tr>\n",
       "      <th>324</th>\n",
       "      <td>frames/frame_0325.jpg</td>\n",
       "      <td>88.659175</td>\n",
       "      <td>0.030256</td>\n",
       "      <td>0.038095</td>\n",
       "      <td>office hour</td>\n",
       "      <td>88.727526</td>\n",
       "    </tr>\n",
       "    <tr>\n",
       "      <th>329</th>\n",
       "      <td>frames/frame_0330.jpg</td>\n",
       "      <td>88.659175</td>\n",
       "      <td>4.658776</td>\n",
       "      <td>4.665082</td>\n",
       "      <td>office hour</td>\n",
       "      <td>97.983034</td>\n",
       "    </tr>\n",
       "    <tr>\n",
       "      <th>326</th>\n",
       "      <td>frames/frame_0327.jpg</td>\n",
       "      <td>88.659175</td>\n",
       "      <td>7.472743</td>\n",
       "      <td>7.478576</td>\n",
       "      <td>office hour</td>\n",
       "      <td>103.610495</td>\n",
       "    </tr>\n",
       "    <tr>\n",
       "      <th>325</th>\n",
       "      <td>frames/frame_0326.jpg</td>\n",
       "      <td>88.659175</td>\n",
       "      <td>7.473355</td>\n",
       "      <td>7.479188</td>\n",
       "      <td>office hour</td>\n",
       "      <td>103.611719</td>\n",
       "    </tr>\n",
       "    <tr>\n",
       "      <th>328</th>\n",
       "      <td>frames/frame_0329.jpg</td>\n",
       "      <td>88.659175</td>\n",
       "      <td>7.481289</td>\n",
       "      <td>7.487595</td>\n",
       "      <td>office hour</td>\n",
       "      <td>103.628060</td>\n",
       "    </tr>\n",
       "    <tr>\n",
       "      <th>327</th>\n",
       "      <td>frames/frame_0328.jpg</td>\n",
       "      <td>88.659175</td>\n",
       "      <td>7.481519</td>\n",
       "      <td>7.487826</td>\n",
       "      <td>office hour</td>\n",
       "      <td>103.628520</td>\n",
       "    </tr>\n",
       "    <tr>\n",
       "      <th>321</th>\n",
       "      <td>frames/frame_0322.jpg</td>\n",
       "      <td>88.659175</td>\n",
       "      <td>41.149089</td>\n",
       "      <td>18.975074</td>\n",
       "      <td>office hour</td>\n",
       "      <td>148.783338</td>\n",
       "    </tr>\n",
       "    <tr>\n",
       "      <th>322</th>\n",
       "      <td>frames/frame_0323.jpg</td>\n",
       "      <td>88.659175</td>\n",
       "      <td>42.190686</td>\n",
       "      <td>19.636580</td>\n",
       "      <td>office hour</td>\n",
       "      <td>150.486441</td>\n",
       "    </tr>\n",
       "    <tr>\n",
       "      <th>323</th>\n",
       "      <td>frames/frame_0324.jpg</td>\n",
       "      <td>88.659175</td>\n",
       "      <td>42.935651</td>\n",
       "      <td>20.674631</td>\n",
       "      <td>office hour</td>\n",
       "      <td>152.269457</td>\n",
       "    </tr>\n",
       "    <tr>\n",
       "      <th>7</th>\n",
       "      <td>frames/frame_0008.jpg</td>\n",
       "      <td>88.659175</td>\n",
       "      <td>52.125681</td>\n",
       "      <td>37.592253</td>\n",
       "      <td>office hour</td>\n",
       "      <td>178.377109</td>\n",
       "    </tr>\n",
       "    <tr>\n",
       "      <th>6</th>\n",
       "      <td>frames/frame_0007.jpg</td>\n",
       "      <td>88.659175</td>\n",
       "      <td>52.104644</td>\n",
       "      <td>37.659015</td>\n",
       "      <td>office hour</td>\n",
       "      <td>178.422834</td>\n",
       "    </tr>\n",
       "    <tr>\n",
       "      <th>5</th>\n",
       "      <td>frames/frame_0006.jpg</td>\n",
       "      <td>88.659175</td>\n",
       "      <td>52.186936</td>\n",
       "      <td>37.745208</td>\n",
       "      <td>office hour</td>\n",
       "      <td>178.591319</td>\n",
       "    </tr>\n",
       "    <tr>\n",
       "      <th>15</th>\n",
       "      <td>frames/frame_0016.jpg</td>\n",
       "      <td>88.659175</td>\n",
       "      <td>52.878997</td>\n",
       "      <td>44.989566</td>\n",
       "      <td>office hour</td>\n",
       "      <td>186.527739</td>\n",
       "    </tr>\n",
       "    <tr>\n",
       "      <th>12</th>\n",
       "      <td>frames/frame_0013.jpg</td>\n",
       "      <td>88.659175</td>\n",
       "      <td>52.983685</td>\n",
       "      <td>45.031502</td>\n",
       "      <td>office hour</td>\n",
       "      <td>186.674362</td>\n",
       "    </tr>\n",
       "    <tr>\n",
       "      <th>9</th>\n",
       "      <td>frames/frame_0010.jpg</td>\n",
       "      <td>88.659175</td>\n",
       "      <td>53.174227</td>\n",
       "      <td>44.903989</td>\n",
       "      <td>office hour</td>\n",
       "      <td>186.737391</td>\n",
       "    </tr>\n",
       "  </tbody>\n",
       "</table>\n",
       "</div>"
      ],
      "text/plain": [
       "                     frame          r          g          b        scene  \\\n",
       "324  frames/frame_0325.jpg  88.659175   0.030256   0.038095  office hour   \n",
       "329  frames/frame_0330.jpg  88.659175   4.658776   4.665082  office hour   \n",
       "326  frames/frame_0327.jpg  88.659175   7.472743   7.478576  office hour   \n",
       "325  frames/frame_0326.jpg  88.659175   7.473355   7.479188  office hour   \n",
       "328  frames/frame_0329.jpg  88.659175   7.481289   7.487595  office hour   \n",
       "327  frames/frame_0328.jpg  88.659175   7.481519   7.487826  office hour   \n",
       "321  frames/frame_0322.jpg  88.659175  41.149089  18.975074  office hour   \n",
       "322  frames/frame_0323.jpg  88.659175  42.190686  19.636580  office hour   \n",
       "323  frames/frame_0324.jpg  88.659175  42.935651  20.674631  office hour   \n",
       "7    frames/frame_0008.jpg  88.659175  52.125681  37.592253  office hour   \n",
       "6    frames/frame_0007.jpg  88.659175  52.104644  37.659015  office hour   \n",
       "5    frames/frame_0006.jpg  88.659175  52.186936  37.745208  office hour   \n",
       "15   frames/frame_0016.jpg  88.659175  52.878997  44.989566  office hour   \n",
       "12   frames/frame_0013.jpg  88.659175  52.983685  45.031502  office hour   \n",
       "9    frames/frame_0010.jpg  88.659175  53.174227  44.903989  office hour   \n",
       "\n",
       "            sum  \n",
       "324   88.727526  \n",
       "329   97.983034  \n",
       "326  103.610495  \n",
       "325  103.611719  \n",
       "328  103.628060  \n",
       "327  103.628520  \n",
       "321  148.783338  \n",
       "322  150.486441  \n",
       "323  152.269457  \n",
       "7    178.377109  \n",
       "6    178.422834  \n",
       "5    178.591319  \n",
       "15   186.527739  \n",
       "12   186.674362  \n",
       "9    186.737391  "
      ]
     },
     "execution_count": 163,
     "metadata": {},
     "output_type": "execute_result"
    }
   ],
   "source": [
    "df_sorted.nsmallest(15, \"sum\")"
   ]
  },
  {
   "cell_type": "code",
   "execution_count": 164,
   "metadata": {},
   "outputs": [],
   "source": [
    "def classifyFrame2(r, g, b):\n",
    "  # Return either \"office hour\", \"notebook\", or \"other\" based on the values of `r`, `g`, and `b`.\n",
    "  return_str = \"\"\n",
    "  sum_frame = r + g + b\n",
    "  return_str = \"office hour\"\n",
    "  if (sum_frame < 155):\n",
    "    return_str = \"other\" \n",
    "  if (b < 55) & (g > 65):\n",
    "    return_str = \"other\"\n",
    "  if (g > 80):\n",
    "    return_str = \"other\"\n",
    "  if (sum_frame > 300):\n",
    "    return_str = \"notebook\"\n",
    "  return return_str"
   ]
  },
  {
   "attachments": {},
   "cell_type": "markdown",
   "metadata": {},
   "source": [
    "## Apply your `classifyFrame2` function\n",
    "\n",
    "Using `classifyFrame2`, this code replaces the value in the column `scene` with your `classifyFrame2` classification function.  The output of this cell shows the last frames of the video, which we expect to be `\"other\"`:"
   ]
  },
  {
   "cell_type": "code",
   "execution_count": 165,
   "metadata": {},
   "outputs": [
    {
     "data": {
      "text/html": [
       "<div>\n",
       "<style scoped>\n",
       "    .dataframe tbody tr th:only-of-type {\n",
       "        vertical-align: middle;\n",
       "    }\n",
       "\n",
       "    .dataframe tbody tr th {\n",
       "        vertical-align: top;\n",
       "    }\n",
       "\n",
       "    .dataframe thead th {\n",
       "        text-align: right;\n",
       "    }\n",
       "</style>\n",
       "<table border=\"1\" class=\"dataframe\">\n",
       "  <thead>\n",
       "    <tr style=\"text-align: right;\">\n",
       "      <th></th>\n",
       "      <th>frame</th>\n",
       "      <th>r</th>\n",
       "      <th>g</th>\n",
       "      <th>b</th>\n",
       "      <th>scene</th>\n",
       "    </tr>\n",
       "  </thead>\n",
       "  <tbody>\n",
       "    <tr>\n",
       "      <th>49</th>\n",
       "      <td>frames/frame_0039.jpg</td>\n",
       "      <td>88.659175</td>\n",
       "      <td>233.208290</td>\n",
       "      <td>233.665586</td>\n",
       "      <td>notebook</td>\n",
       "    </tr>\n",
       "    <tr>\n",
       "      <th>130</th>\n",
       "      <td>frames/frame_0072.jpg</td>\n",
       "      <td>88.659175</td>\n",
       "      <td>230.171858</td>\n",
       "      <td>230.673008</td>\n",
       "      <td>notebook</td>\n",
       "    </tr>\n",
       "    <tr>\n",
       "      <th>259</th>\n",
       "      <td>frames/frame_0182.jpg</td>\n",
       "      <td>88.659175</td>\n",
       "      <td>232.372378</td>\n",
       "      <td>230.151311</td>\n",
       "      <td>notebook</td>\n",
       "    </tr>\n",
       "    <tr>\n",
       "      <th>180</th>\n",
       "      <td>frames/frame_0280.jpg</td>\n",
       "      <td>88.659175</td>\n",
       "      <td>242.176402</td>\n",
       "      <td>240.907209</td>\n",
       "      <td>notebook</td>\n",
       "    </tr>\n",
       "    <tr>\n",
       "      <th>276</th>\n",
       "      <td>frames/frame_0208.jpg</td>\n",
       "      <td>88.659175</td>\n",
       "      <td>237.834770</td>\n",
       "      <td>235.548598</td>\n",
       "      <td>notebook</td>\n",
       "    </tr>\n",
       "    <tr>\n",
       "      <th>191</th>\n",
       "      <td>frames/frame_0322.jpg</td>\n",
       "      <td>88.659175</td>\n",
       "      <td>41.149089</td>\n",
       "      <td>18.975074</td>\n",
       "      <td>other</td>\n",
       "    </tr>\n",
       "    <tr>\n",
       "      <th>81</th>\n",
       "      <td>frames/frame_0248.jpg</td>\n",
       "      <td>88.659175</td>\n",
       "      <td>243.410126</td>\n",
       "      <td>241.684648</td>\n",
       "      <td>notebook</td>\n",
       "    </tr>\n",
       "    <tr>\n",
       "      <th>192</th>\n",
       "      <td>frames/frame_0256.jpg</td>\n",
       "      <td>88.659175</td>\n",
       "      <td>243.393129</td>\n",
       "      <td>241.721944</td>\n",
       "      <td>notebook</td>\n",
       "    </tr>\n",
       "    <tr>\n",
       "      <th>322</th>\n",
       "      <td>frames/frame_0145.jpg</td>\n",
       "      <td>88.659175</td>\n",
       "      <td>229.600955</td>\n",
       "      <td>227.319214</td>\n",
       "      <td>notebook</td>\n",
       "    </tr>\n",
       "    <tr>\n",
       "      <th>159</th>\n",
       "      <td>frames/frame_0320.jpg</td>\n",
       "      <td>88.659175</td>\n",
       "      <td>71.838433</td>\n",
       "      <td>54.457305</td>\n",
       "      <td>other</td>\n",
       "    </tr>\n",
       "    <tr>\n",
       "      <th>58</th>\n",
       "      <td>frames/frame_0206.jpg</td>\n",
       "      <td>88.659175</td>\n",
       "      <td>237.855048</td>\n",
       "      <td>235.574865</td>\n",
       "      <td>notebook</td>\n",
       "    </tr>\n",
       "    <tr>\n",
       "      <th>300</th>\n",
       "      <td>frames/frame_0147.jpg</td>\n",
       "      <td>88.659175</td>\n",
       "      <td>229.469232</td>\n",
       "      <td>227.149219</td>\n",
       "      <td>notebook</td>\n",
       "    </tr>\n",
       "    <tr>\n",
       "      <th>238</th>\n",
       "      <td>frames/frame_0127.jpg</td>\n",
       "      <td>88.659175</td>\n",
       "      <td>67.961332</td>\n",
       "      <td>60.376766</td>\n",
       "      <td>office hour</td>\n",
       "    </tr>\n",
       "    <tr>\n",
       "      <th>145</th>\n",
       "      <td>frames/frame_0271.jpg</td>\n",
       "      <td>88.659175</td>\n",
       "      <td>242.652452</td>\n",
       "      <td>241.196849</td>\n",
       "      <td>notebook</td>\n",
       "    </tr>\n",
       "    <tr>\n",
       "      <th>267</th>\n",
       "      <td>frames/frame_0197.jpg</td>\n",
       "      <td>88.659175</td>\n",
       "      <td>238.228464</td>\n",
       "      <td>235.758216</td>\n",
       "      <td>notebook</td>\n",
       "    </tr>\n",
       "    <tr>\n",
       "      <th>144</th>\n",
       "      <td>frames/frame_0265.jpg</td>\n",
       "      <td>88.659175</td>\n",
       "      <td>242.944306</td>\n",
       "      <td>241.363533</td>\n",
       "      <td>notebook</td>\n",
       "    </tr>\n",
       "    <tr>\n",
       "      <th>216</th>\n",
       "      <td>frames/frame_0131.jpg</td>\n",
       "      <td>88.659175</td>\n",
       "      <td>67.500395</td>\n",
       "      <td>60.347313</td>\n",
       "      <td>office hour</td>\n",
       "    </tr>\n",
       "    <tr>\n",
       "      <th>208</th>\n",
       "      <td>frames/frame_0246.jpg</td>\n",
       "      <td>88.659175</td>\n",
       "      <td>243.406120</td>\n",
       "      <td>241.719010</td>\n",
       "      <td>notebook</td>\n",
       "    </tr>\n",
       "    <tr>\n",
       "      <th>63</th>\n",
       "      <td>frames/frame_0088.jpg</td>\n",
       "      <td>88.659175</td>\n",
       "      <td>230.024835</td>\n",
       "      <td>230.577704</td>\n",
       "      <td>notebook</td>\n",
       "    </tr>\n",
       "    <tr>\n",
       "      <th>142</th>\n",
       "      <td>frames/frame_0305.jpg</td>\n",
       "      <td>88.659175</td>\n",
       "      <td>69.996150</td>\n",
       "      <td>62.738594</td>\n",
       "      <td>office hour</td>\n",
       "    </tr>\n",
       "  </tbody>\n",
       "</table>\n",
       "</div>"
      ],
      "text/plain": [
       "                     frame          r           g           b        scene\n",
       "49   frames/frame_0039.jpg  88.659175  233.208290  233.665586     notebook\n",
       "130  frames/frame_0072.jpg  88.659175  230.171858  230.673008     notebook\n",
       "259  frames/frame_0182.jpg  88.659175  232.372378  230.151311     notebook\n",
       "180  frames/frame_0280.jpg  88.659175  242.176402  240.907209     notebook\n",
       "276  frames/frame_0208.jpg  88.659175  237.834770  235.548598     notebook\n",
       "191  frames/frame_0322.jpg  88.659175   41.149089   18.975074        other\n",
       "81   frames/frame_0248.jpg  88.659175  243.410126  241.684648     notebook\n",
       "192  frames/frame_0256.jpg  88.659175  243.393129  241.721944     notebook\n",
       "322  frames/frame_0145.jpg  88.659175  229.600955  227.319214     notebook\n",
       "159  frames/frame_0320.jpg  88.659175   71.838433   54.457305        other\n",
       "58   frames/frame_0206.jpg  88.659175  237.855048  235.574865     notebook\n",
       "300  frames/frame_0147.jpg  88.659175  229.469232  227.149219     notebook\n",
       "238  frames/frame_0127.jpg  88.659175   67.961332   60.376766  office hour\n",
       "145  frames/frame_0271.jpg  88.659175  242.652452  241.196849     notebook\n",
       "267  frames/frame_0197.jpg  88.659175  238.228464  235.758216     notebook\n",
       "144  frames/frame_0265.jpg  88.659175  242.944306  241.363533     notebook\n",
       "216  frames/frame_0131.jpg  88.659175   67.500395   60.347313  office hour\n",
       "208  frames/frame_0246.jpg  88.659175  243.406120  241.719010     notebook\n",
       "63   frames/frame_0088.jpg  88.659175  230.024835  230.577704     notebook\n",
       "142  frames/frame_0305.jpg  88.659175   69.996150   62.738594  office hour"
      ]
     },
     "execution_count": 165,
     "metadata": {},
     "output_type": "execute_result"
    }
   ],
   "source": [
    "df[\"scene\"] = df.apply(lambda row: classifyFrame2(row.r, row.g, row.b), axis=1)\n",
    "df.sample(20)"
   ]
  },
  {
   "attachments": {},
   "cell_type": "markdown",
   "metadata": {},
   "source": [
    "### 🔬 Checkpoint Tests 🔬"
   ]
  },
  {
   "cell_type": "code",
   "execution_count": 166,
   "metadata": {},
   "outputs": [
    {
     "name": "stdout",
     "output_type": "stream",
     "text": [
      "🎉 All Tests Passed! 🎉\n"
     ]
    }
   ],
   "source": [
    "### TEST CASE for Part 4: Update Your Classifier to Account with an Other Category\n",
    "tada = \"\\N{PARTY POPPER}\"\n",
    "\n",
    "assert(\"scene\" in df)\n",
    "\n",
    "assert(len(df[ df.scene == \"notebook\" ]) > 100)\n",
    "assert(len(df[ df.scene == \"office hour\" ]) > 75)\n",
    "assert(len(df[ df.scene == \"other\" ]) >= 15)\n",
    "assert(len(df[ df.scene == \"other\" ]) <= 18)   # Okay to classify the intro screens as well, but not any others.\n",
    "assert(len(df[ df.scene == \"notebook\" ]) + len(df[ df.scene == \"office hour\" ]) + len(df[ df.scene == \"other\" ]) == len(df))\n",
    "\n",
    "assert( len( df[ (df.frame.str.endswith(\"0001.jpg\")) & (df.scene == \"office hour\") ] ) == 1 )\n",
    "assert( len( df[ (df.frame.str.endswith(\"0306.jpg\")) & (df.scene == \"office hour\") ] ) == 1 )\n",
    "assert( len( df[ (df.frame.str.endswith(\"0081.jpg\")) & (df.scene == \"notebook\") ] ) == 1 )\n",
    "assert( len( df[ (df.frame.str.endswith(\"0191.jpg\")) & (df.scene == \"notebook\") ] ) == 1 )\n",
    "assert( len( df[ (df.frame.str.endswith(\"0317.jpg\")) & (df.scene == \"other\") ] ) == 1 )\n",
    "assert( len( df[ (df.frame.str.endswith(\"0325.jpg\")) & (df.scene == \"other\") ] ) == 1 )\n",
    "assert( len( df[ (df.frame.str.endswith(\"0328.jpg\")) & (df.scene == \"other\") ] ) == 1 )\n",
    "\n",
    "print(f\"{tada} All Tests Passed! {tada}\")"
   ]
  },
  {
   "attachments": {},
   "cell_type": "markdown",
   "metadata": {},
   "source": [
    "<hr style=\"color: #DD3403;\">"
   ]
  },
  {
   "attachments": {},
   "cell_type": "markdown",
   "metadata": {},
   "source": [
    "## Submission\n",
    "\n",
    "You're almost done!  All you need to do is to commit your lab to GitHub and run the GitHub Actions Grader:\n",
    "\n",
    "1.  ⚠️ **Make certain to save your work.** ⚠️ To do this, go to **File => Save All**\n",
    "\n",
    "2.  After you have saved, exit this notebook and return to https://discovery.cs.illinois.edu/microproject/video-frame-scene-recognition-model/ and complete the section **\"Commit and Grade Your Notebook\"**.\n",
    "\n",
    "3. If you see a 100% grade result on your GitHub Action, you've completed this MicroProject! 🎉"
   ]
  }
 ],
 "metadata": {
  "kernelspec": {
   "display_name": "Python 3",
   "language": "python",
   "name": "python3"
  },
  "language_info": {
   "codemirror_mode": {
    "name": "ipython",
    "version": 3
   },
   "file_extension": ".py",
   "mimetype": "text/x-python",
   "name": "python",
   "nbconvert_exporter": "python",
   "pygments_lexer": "ipython3",
   "version": "3.12.5"
  }
 },
 "nbformat": 4,
 "nbformat_minor": 2
}
